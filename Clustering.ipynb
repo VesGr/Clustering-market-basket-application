{
 "cells": [
  {
   "cell_type": "markdown",
   "metadata": {},
   "source": [
    "# Clustering via K-means and spherical K-means\n",
    "\n",
    "Clustering refers to the unsupervised techniques of identifying clusters of observations that are \"similar\" to each other. In this project we will examine the *K-means* and *spherical K-means* algorithms using data from John Foreman's book \"Data Smart.\" While K-means is simple to implement and efficient, we will see that spherical K-means is particularly appropriate for market basket analysis. \n",
    "\n",
    "\n",
    "## K-means clustering algorithm\n",
    "\n",
    "K-means clustering is an algorithm for partitioning the dataset into distinct, non-overlapping clusters by minimizing the within-cluster variance. Within-cluster variance can be expressed as the sum of the pairwise squared Euclidean distances between each pair of points within the cluster.  \n",
    "\n",
    "Deriving the optimal partition of observations into clusters with minimum within-cluster variance can be analytically intractable unless the number of clusters and number of observations are very small. Therefore, the K-means algorithm can be used to find a local optmium that minimizes the within-cluster variance assuming that the number of clusters is fixed and defined at the onset. The algorithm uses the concept of a cluster centroid, which is the vector of feature means for the observations in the cluster. It can be shown that the optimization problem of minimizing the sum of pairwise distances over *k* clusters is equivalent to finding the cluster centroids that minimize the distance of each point in the cluster to that cluster's centroid (all distances are Euclidean distances). The basic K-means algorithm operates as follows:\n",
    "\n",
    "1. Define number of clusters\n",
    "2. Randomly assign each observation to a cluster\n",
    "3. Iterate the below until no observation is reassigned to a different cluster\n",
    "\n",
    "    a. Compute the cluster centroid for each cluster\n",
    "    \n",
    "    b. Calculate the distance between each observation and the cluster centroids\n",
    "    \n",
    "    c. Assign the observation to the closest cluster centroid\n",
    "\n",
    "The K-means algorithm finds a local optimum, which is dependent on the initialized clusters in Step 2. There a number of different initialization approaches that increase the chances of finding an optimum close to the global optimum. A couple of common ones are: \n",
    "\n",
    "*  Using random initialization of the clusters, run the algorithm more than once and select the local optimum that results in the lowest within-cluster variance. This selection process is built into R's *kmeans* function. \n",
    "\n",
    "*  Choose the initial cluster centroids to be as far from each other as possible - this is known as kmeans++ and can be implemented via the *flexclust* package.\n",
    "\n",
    "\n",
    "*Caveats*\n",
    "\n",
    "* Clusters may not be robust to changes in the data (e.g., removing a subset of observations or using a new sample altogether). \n",
    "\n",
    "* Clusters that emerge may be influenced by outlier observations (i.e., observations that really do not belong to any of the clusters but the algorithm forces a cluster assignment on them, which skews the centroids).\n",
    "\n",
    "* K-means would not perform well if the inherent clusters are of different sizes, if they are not spherical, or if they overlap. \n",
    "\n",
    "\n",
    "\n",
    "*References:*\n",
    "\n",
    "* Data Smart by John Foreman\n",
    "* Coursera: Machine Learning: Clustering & Retrieval, University of Washington\n",
    "* Introduction to Statistical Learning by James, Witten, Hastie, and Tibshirani\n",
    "* Mining of Massive Datasets by Leskovec, Rajaraman, and Ullman\n",
    "* Selecting the right objective measure for association analysis by Tan, Kumar, and Srivastava (2004)\n",
    "* Online references: \n",
    "\n",
    "http://www.statmethods.net/advstats/cluster.html \n",
    "\n",
    "http://disi.unitn.it/~themis/courses/MassiveDataAnalytics/slides/Clustering2-2in1.pdf  \n",
    "\n",
    "http://cran.cnr.berkeley.edu/web/views/Cluster.html  \n",
    "\n",
    "http://stackoverflow.com/questions/15376075/cluster-analysis-in-r-determine-the-optimal-number-of-clusters/15376462#15376462 \n",
    "\n",
    "http://www.sthda.com/english/wiki/determining-the-optimal-number-of-clusters-3-must-known-methods-unsupervised-machine-learning#three-popular-methods-for-determining-the-optimal-number-of-clusters \n",
    "\n",
    "*Data source:* \n",
    "\n",
    "*wine.csv* dataset from Chapter 2 of Data Smart by John Foreman  \n",
    "http://www.wiley.com/WileyCDA/WileyTitle/productCd-111866146X.html  \n",
    "\n",
    "## Load and examine the data\n",
    "\n",
    "We will use a data set from Chapter 2 of the \"Data Smart\" book by J. Foreman. The dataset has information about 32 wine deals that a merchant has offered in the past year. The deals were advertised in the merchant's monthly newsletter. The goal of the analysis is to use purchase history data about 100 customers and segment these customers into a small number of clusters such that the merchant can send a tailored newsletter to each group of customers. \n",
    "\n",
    "The data was provided as an Excel file with a number of tabs. We will use the \"Matrix\" tab, which has 32 rows representing the various wine offers by a merchant. The columns store information about:\n",
    "\n",
    "1. Offer - the deal id (1 - 32)\n",
    "2. Campaign - the month in which the deal was offered\n",
    "3. Varietal - type of wine advertised in the offer (e.g., Malbec, Champagne, etc.)\n",
    "4. Minimum Qty (kg) - minimum quantity required\n",
    "5. Discount (%) -  discount applied\n",
    "6. Origin - country of origin of the wine\n",
    "7. Past peak - True/False variable for whether the wine has passed its peak\n",
    "8. Columns 8 through 107 are labeled with the names of each customer who received the newsletters last year. The column values are binary 0/1 variables, where 1 indicates that the customer has taken the offer and 0 otherwise. "
   ]
  },
  {
   "cell_type": "code",
   "execution_count": 2,
   "metadata": {
    "collapsed": false
   },
   "outputs": [
    {
     "data": {
      "text/html": [
       "<span style=white-space:pre-wrap>'There are  32 observations and  107 variables'</span>"
      ],
      "text/latex": [
       "'There are  32 observations and  107 variables'"
      ],
      "text/markdown": [
       "<span style=white-space:pre-wrap>'There are  32 observations and  107 variables'</span>"
      ],
      "text/plain": [
       "[1] \"There are  32 observations and  107 variables\""
      ]
     },
     "metadata": {},
     "output_type": "display_data"
    },
    {
     "name": "stdout",
     "output_type": "stream",
     "text": [
      "[1] \"Data is loaded correctly\"\n"
     ]
    },
    {
     "data": {
      "text/html": [
       "<table>\n",
       "<thead><tr><th scope=col>Offer..</th><th scope=col>Campaign</th><th scope=col>Varietal</th><th scope=col>Minimum.Qty..kg.</th><th scope=col>Discount....</th><th scope=col>Origin</th><th scope=col>Past.Peak</th><th scope=col>Adams</th><th scope=col>Allen</th><th scope=col>Anderson</th><th scope=col>...</th><th scope=col>Turner</th><th scope=col>Walker</th><th scope=col>Ward</th><th scope=col>Watson</th><th scope=col>White</th><th scope=col>Williams</th><th scope=col>Wilson</th><th scope=col>Wood</th><th scope=col>Wright</th><th scope=col>Young</th></tr></thead>\n",
       "<tbody>\n",
       "\t<tr><td>1                 </td><td>January           </td><td>Malbec            </td><td> 72               </td><td>56                </td><td>France            </td><td>FALSE             </td><td>NA                </td><td>NA                </td><td>NA                </td><td>...               </td><td>NA                </td><td>NA                </td><td>NA                </td><td>NA                </td><td>NA                </td><td>NA                </td><td>NA                </td><td> 1                </td><td>NA                </td><td>NA                </td></tr>\n",
       "\t<tr><td>2                 </td><td>January           </td><td>Pinot Noir        </td><td> 72               </td><td>17                </td><td>France            </td><td>FALSE             </td><td>NA                </td><td>NA                </td><td>NA                </td><td>...               </td><td>NA                </td><td>NA                </td><td>NA                </td><td>NA                </td><td>NA                </td><td>NA                </td><td>NA                </td><td>NA                </td><td>NA                </td><td>NA                </td></tr>\n",
       "\t<tr><td>3                 </td><td>February          </td><td>Espumante         </td><td>144               </td><td>32                </td><td>Oregon            </td><td> TRUE             </td><td>NA                </td><td>NA                </td><td>NA                </td><td>...               </td><td>NA                </td><td>NA                </td><td>NA                </td><td>NA                </td><td>NA                </td><td>NA                </td><td>NA                </td><td>NA                </td><td>NA                </td><td>NA                </td></tr>\n",
       "\t<tr><td>4                 </td><td>February          </td><td>Champagne         </td><td> 72               </td><td>48                </td><td>France            </td><td> TRUE             </td><td>NA                </td><td>NA                </td><td>NA                </td><td>...               </td><td> 1                </td><td>NA                </td><td> 1                </td><td>NA                </td><td>NA                </td><td>NA                </td><td>NA                </td><td>NA                </td><td> 1                </td><td>NA                </td></tr>\n",
       "\t<tr><td>5                 </td><td>February          </td><td>Cabernet Sauvignon</td><td>144               </td><td>44                </td><td>New Zealand       </td><td> TRUE             </td><td>NA                </td><td>NA                </td><td>NA                </td><td>...               </td><td>NA                </td><td>NA                </td><td>NA                </td><td>NA                </td><td>NA                </td><td>NA                </td><td>NA                </td><td>NA                </td><td>NA                </td><td>NA                </td></tr>\n",
       "\t<tr><td>6                 </td><td>March             </td><td>Prosecco          </td><td>144               </td><td>86                </td><td>Chile             </td><td>FALSE             </td><td>NA                </td><td>NA                </td><td>NA                </td><td>...               </td><td> 1                </td><td>NA                </td><td>NA                </td><td>NA                </td><td>NA                </td><td>NA                </td><td>NA                </td><td>NA                </td><td> 1                </td><td> 1                </td></tr>\n",
       "</tbody>\n",
       "</table>\n"
      ],
      "text/latex": [
       "\\begin{tabular}{r|lllllllllllllllllllllllllllllllllllllllllllllllllllllllllllllllllllllllllllllllllllllllllllllllllllllllllll}\n",
       " Offer.. & Campaign & Varietal & Minimum.Qty..kg. & Discount.... & Origin & Past.Peak & Adams & Allen & Anderson & ... & Turner & Walker & Ward & Watson & White & Williams & Wilson & Wood & Wright & Young\\\\\n",
       "\\hline\n",
       "\t 1                  & January            & Malbec             &  72                & 56                 & France             & FALSE              & NA                 & NA                 & NA                 & ...                & NA                 & NA                 & NA                 & NA                 & NA                 & NA                 & NA                 &  1                 & NA                 & NA                \\\\\n",
       "\t 2                  & January            & Pinot Noir         &  72                & 17                 & France             & FALSE              & NA                 & NA                 & NA                 & ...                & NA                 & NA                 & NA                 & NA                 & NA                 & NA                 & NA                 & NA                 & NA                 & NA                \\\\\n",
       "\t 3                  & February           & Espumante          & 144                & 32                 & Oregon             &  TRUE              & NA                 & NA                 & NA                 & ...                & NA                 & NA                 & NA                 & NA                 & NA                 & NA                 & NA                 & NA                 & NA                 & NA                \\\\\n",
       "\t 4                  & February           & Champagne          &  72                & 48                 & France             &  TRUE              & NA                 & NA                 & NA                 & ...                &  1                 & NA                 &  1                 & NA                 & NA                 & NA                 & NA                 & NA                 &  1                 & NA                \\\\\n",
       "\t 5                  & February           & Cabernet Sauvignon & 144                & 44                 & New Zealand        &  TRUE              & NA                 & NA                 & NA                 & ...                & NA                 & NA                 & NA                 & NA                 & NA                 & NA                 & NA                 & NA                 & NA                 & NA                \\\\\n",
       "\t 6                  & March              & Prosecco           & 144                & 86                 & Chile              & FALSE              & NA                 & NA                 & NA                 & ...                &  1                 & NA                 & NA                 & NA                 & NA                 & NA                 & NA                 & NA                 &  1                 &  1                \\\\\n",
       "\\end{tabular}\n"
      ],
      "text/markdown": [
       "\n",
       "Offer.. | Campaign | Varietal | Minimum.Qty..kg. | Discount.... | Origin | Past.Peak | Adams | Allen | Anderson | ... | Turner | Walker | Ward | Watson | White | Williams | Wilson | Wood | Wright | Young | \n",
       "|---|---|---|---|---|---|\n",
       "| 1                  | January            | Malbec             |  72                | 56                 | France             | FALSE              | NA                 | NA                 | NA                 | ...                | NA                 | NA                 | NA                 | NA                 | NA                 | NA                 | NA                 |  1                 | NA                 | NA                 | \n",
       "| 2                  | January            | Pinot Noir         |  72                | 17                 | France             | FALSE              | NA                 | NA                 | NA                 | ...                | NA                 | NA                 | NA                 | NA                 | NA                 | NA                 | NA                 | NA                 | NA                 | NA                 | \n",
       "| 3                  | February           | Espumante          | 144                | 32                 | Oregon             |  TRUE              | NA                 | NA                 | NA                 | ...                | NA                 | NA                 | NA                 | NA                 | NA                 | NA                 | NA                 | NA                 | NA                 | NA                 | \n",
       "| 4                  | February           | Champagne          |  72                | 48                 | France             |  TRUE              | NA                 | NA                 | NA                 | ...                |  1                 | NA                 |  1                 | NA                 | NA                 | NA                 | NA                 | NA                 |  1                 | NA                 | \n",
       "| 5                  | February           | Cabernet Sauvignon | 144                | 44                 | New Zealand        |  TRUE              | NA                 | NA                 | NA                 | ...                | NA                 | NA                 | NA                 | NA                 | NA                 | NA                 | NA                 | NA                 | NA                 | NA                 | \n",
       "| 6                  | March              | Prosecco           | 144                | 86                 | Chile              | FALSE              | NA                 | NA                 | NA                 | ...                |  1                 | NA                 | NA                 | NA                 | NA                 | NA                 | NA                 | NA                 |  1                 |  1                 | \n",
       "\n",
       "\n"
      ],
      "text/plain": [
       "  Offer.. Campaign Varietal           Minimum.Qty..kg. Discount.... Origin     \n",
       "1 1       January  Malbec              72              56           France     \n",
       "2 2       January  Pinot Noir          72              17           France     \n",
       "3 3       February Espumante          144              32           Oregon     \n",
       "4 4       February Champagne           72              48           France     \n",
       "5 5       February Cabernet Sauvignon 144              44           New Zealand\n",
       "6 6       March    Prosecco           144              86           Chile      \n",
       "  Past.Peak Adams Allen Anderson ... Turner Walker Ward Watson White Williams\n",
       "1 FALSE     NA    NA    NA       ... NA     NA     NA   NA     NA    NA      \n",
       "2 FALSE     NA    NA    NA       ... NA     NA     NA   NA     NA    NA      \n",
       "3  TRUE     NA    NA    NA       ... NA     NA     NA   NA     NA    NA      \n",
       "4  TRUE     NA    NA    NA       ...  1     NA      1   NA     NA    NA      \n",
       "5  TRUE     NA    NA    NA       ... NA     NA     NA   NA     NA    NA      \n",
       "6 FALSE     NA    NA    NA       ...  1     NA     NA   NA     NA    NA      \n",
       "  Wilson Wood Wright Young\n",
       "1 NA      1   NA     NA   \n",
       "2 NA     NA   NA     NA   \n",
       "3 NA     NA   NA     NA   \n",
       "4 NA     NA    1     NA   \n",
       "5 NA     NA   NA     NA   \n",
       "6 NA     NA    1      1   "
      ]
     },
     "metadata": {},
     "output_type": "display_data"
    }
   ],
   "source": [
    "# Load the variable names data\n",
    "# Load the wine data\n",
    "wine_raw <- read.csv(\"~/Study projects/Clustering/wineKMC.csv\", header=TRUE, stringsAsFactors=FALSE)\n",
    "paste('There are ', dim(wine_raw)[1], 'observations and ', dim(wine_raw)[2], 'variables')\n",
    "if (dim(wine_raw)[1] != 32 | dim(wine_raw)[2]!=107) {\n",
    "    print(\"Check data load - number of observations or variables is not as expected\")\n",
    "} else {\n",
    "        print(\"Data is loaded correctly\")\n",
    "} \n",
    "head(wine_raw)"
   ]
  },
  {
   "cell_type": "markdown",
   "metadata": {},
   "source": [
    "The 0 values in columns 8-107 were read in as \"NA\", so we will replace them with 0. "
   ]
  },
  {
   "cell_type": "code",
   "execution_count": 3,
   "metadata": {
    "collapsed": false
   },
   "outputs": [
    {
     "data": {
      "text/html": [
       "<table>\n",
       "<thead><tr><th scope=col>Offer..</th><th scope=col>Campaign</th><th scope=col>Varietal</th><th scope=col>Minimum.Qty..kg.</th><th scope=col>Discount....</th><th scope=col>Origin</th><th scope=col>Past.Peak</th><th scope=col>Adams</th><th scope=col>Allen</th><th scope=col>Anderson</th><th scope=col>...</th><th scope=col>Turner</th><th scope=col>Walker</th><th scope=col>Ward</th><th scope=col>Watson</th><th scope=col>White</th><th scope=col>Williams</th><th scope=col>Wilson</th><th scope=col>Wood</th><th scope=col>Wright</th><th scope=col>Young</th></tr></thead>\n",
       "<tbody>\n",
       "\t<tr><td>1                 </td><td>January           </td><td>Malbec            </td><td> 72               </td><td>56                </td><td>France            </td><td>FALSE             </td><td>0                 </td><td>0                 </td><td>0                 </td><td>...               </td><td>0                 </td><td>0                 </td><td>0                 </td><td>0                 </td><td>0                 </td><td>0                 </td><td>0                 </td><td>1                 </td><td>0                 </td><td>0                 </td></tr>\n",
       "\t<tr><td>2                 </td><td>January           </td><td>Pinot Noir        </td><td> 72               </td><td>17                </td><td>France            </td><td>FALSE             </td><td>0                 </td><td>0                 </td><td>0                 </td><td>...               </td><td>0                 </td><td>0                 </td><td>0                 </td><td>0                 </td><td>0                 </td><td>0                 </td><td>0                 </td><td>0                 </td><td>0                 </td><td>0                 </td></tr>\n",
       "\t<tr><td>3                 </td><td>February          </td><td>Espumante         </td><td>144               </td><td>32                </td><td>Oregon            </td><td> TRUE             </td><td>0                 </td><td>0                 </td><td>0                 </td><td>...               </td><td>0                 </td><td>0                 </td><td>0                 </td><td>0                 </td><td>0                 </td><td>0                 </td><td>0                 </td><td>0                 </td><td>0                 </td><td>0                 </td></tr>\n",
       "\t<tr><td>4                 </td><td>February          </td><td>Champagne         </td><td> 72               </td><td>48                </td><td>France            </td><td> TRUE             </td><td>0                 </td><td>0                 </td><td>0                 </td><td>...               </td><td>1                 </td><td>0                 </td><td>1                 </td><td>0                 </td><td>0                 </td><td>0                 </td><td>0                 </td><td>0                 </td><td>1                 </td><td>0                 </td></tr>\n",
       "\t<tr><td>5                 </td><td>February          </td><td>Cabernet Sauvignon</td><td>144               </td><td>44                </td><td>New Zealand       </td><td> TRUE             </td><td>0                 </td><td>0                 </td><td>0                 </td><td>...               </td><td>0                 </td><td>0                 </td><td>0                 </td><td>0                 </td><td>0                 </td><td>0                 </td><td>0                 </td><td>0                 </td><td>0                 </td><td>0                 </td></tr>\n",
       "\t<tr><td>6                 </td><td>March             </td><td>Prosecco          </td><td>144               </td><td>86                </td><td>Chile             </td><td>FALSE             </td><td>0                 </td><td>0                 </td><td>0                 </td><td>...               </td><td>1                 </td><td>0                 </td><td>0                 </td><td>0                 </td><td>0                 </td><td>0                 </td><td>0                 </td><td>0                 </td><td>1                 </td><td>1                 </td></tr>\n",
       "</tbody>\n",
       "</table>\n"
      ],
      "text/latex": [
       "\\begin{tabular}{r|lllllllllllllllllllllllllllllllllllllllllllllllllllllllllllllllllllllllllllllllllllllllllllllllllllllllllll}\n",
       " Offer.. & Campaign & Varietal & Minimum.Qty..kg. & Discount.... & Origin & Past.Peak & Adams & Allen & Anderson & ... & Turner & Walker & Ward & Watson & White & Williams & Wilson & Wood & Wright & Young\\\\\n",
       "\\hline\n",
       "\t 1                  & January            & Malbec             &  72                & 56                 & France             & FALSE              & 0                  & 0                  & 0                  & ...                & 0                  & 0                  & 0                  & 0                  & 0                  & 0                  & 0                  & 1                  & 0                  & 0                 \\\\\n",
       "\t 2                  & January            & Pinot Noir         &  72                & 17                 & France             & FALSE              & 0                  & 0                  & 0                  & ...                & 0                  & 0                  & 0                  & 0                  & 0                  & 0                  & 0                  & 0                  & 0                  & 0                 \\\\\n",
       "\t 3                  & February           & Espumante          & 144                & 32                 & Oregon             &  TRUE              & 0                  & 0                  & 0                  & ...                & 0                  & 0                  & 0                  & 0                  & 0                  & 0                  & 0                  & 0                  & 0                  & 0                 \\\\\n",
       "\t 4                  & February           & Champagne          &  72                & 48                 & France             &  TRUE              & 0                  & 0                  & 0                  & ...                & 1                  & 0                  & 1                  & 0                  & 0                  & 0                  & 0                  & 0                  & 1                  & 0                 \\\\\n",
       "\t 5                  & February           & Cabernet Sauvignon & 144                & 44                 & New Zealand        &  TRUE              & 0                  & 0                  & 0                  & ...                & 0                  & 0                  & 0                  & 0                  & 0                  & 0                  & 0                  & 0                  & 0                  & 0                 \\\\\n",
       "\t 6                  & March              & Prosecco           & 144                & 86                 & Chile              & FALSE              & 0                  & 0                  & 0                  & ...                & 1                  & 0                  & 0                  & 0                  & 0                  & 0                  & 0                  & 0                  & 1                  & 1                 \\\\\n",
       "\\end{tabular}\n"
      ],
      "text/markdown": [
       "\n",
       "Offer.. | Campaign | Varietal | Minimum.Qty..kg. | Discount.... | Origin | Past.Peak | Adams | Allen | Anderson | ... | Turner | Walker | Ward | Watson | White | Williams | Wilson | Wood | Wright | Young | \n",
       "|---|---|---|---|---|---|\n",
       "| 1                  | January            | Malbec             |  72                | 56                 | France             | FALSE              | 0                  | 0                  | 0                  | ...                | 0                  | 0                  | 0                  | 0                  | 0                  | 0                  | 0                  | 1                  | 0                  | 0                  | \n",
       "| 2                  | January            | Pinot Noir         |  72                | 17                 | France             | FALSE              | 0                  | 0                  | 0                  | ...                | 0                  | 0                  | 0                  | 0                  | 0                  | 0                  | 0                  | 0                  | 0                  | 0                  | \n",
       "| 3                  | February           | Espumante          | 144                | 32                 | Oregon             |  TRUE              | 0                  | 0                  | 0                  | ...                | 0                  | 0                  | 0                  | 0                  | 0                  | 0                  | 0                  | 0                  | 0                  | 0                  | \n",
       "| 4                  | February           | Champagne          |  72                | 48                 | France             |  TRUE              | 0                  | 0                  | 0                  | ...                | 1                  | 0                  | 1                  | 0                  | 0                  | 0                  | 0                  | 0                  | 1                  | 0                  | \n",
       "| 5                  | February           | Cabernet Sauvignon | 144                | 44                 | New Zealand        |  TRUE              | 0                  | 0                  | 0                  | ...                | 0                  | 0                  | 0                  | 0                  | 0                  | 0                  | 0                  | 0                  | 0                  | 0                  | \n",
       "| 6                  | March              | Prosecco           | 144                | 86                 | Chile              | FALSE              | 0                  | 0                  | 0                  | ...                | 1                  | 0                  | 0                  | 0                  | 0                  | 0                  | 0                  | 0                  | 1                  | 1                  | \n",
       "\n",
       "\n"
      ],
      "text/plain": [
       "  Offer.. Campaign Varietal           Minimum.Qty..kg. Discount.... Origin     \n",
       "1 1       January  Malbec              72              56           France     \n",
       "2 2       January  Pinot Noir          72              17           France     \n",
       "3 3       February Espumante          144              32           Oregon     \n",
       "4 4       February Champagne           72              48           France     \n",
       "5 5       February Cabernet Sauvignon 144              44           New Zealand\n",
       "6 6       March    Prosecco           144              86           Chile      \n",
       "  Past.Peak Adams Allen Anderson ... Turner Walker Ward Watson White Williams\n",
       "1 FALSE     0     0     0        ... 0      0      0    0      0     0       \n",
       "2 FALSE     0     0     0        ... 0      0      0    0      0     0       \n",
       "3  TRUE     0     0     0        ... 0      0      0    0      0     0       \n",
       "4  TRUE     0     0     0        ... 1      0      1    0      0     0       \n",
       "5  TRUE     0     0     0        ... 0      0      0    0      0     0       \n",
       "6 FALSE     0     0     0        ... 1      0      0    0      0     0       \n",
       "  Wilson Wood Wright Young\n",
       "1 0      1    0      0    \n",
       "2 0      0    0      0    \n",
       "3 0      0    0      0    \n",
       "4 0      0    1      0    \n",
       "5 0      0    0      0    \n",
       "6 0      0    1      1    "
      ]
     },
     "metadata": {},
     "output_type": "display_data"
    }
   ],
   "source": [
    "# Replace NAs in the customer columns with 0s\n",
    "wine_raw[ ,c(8:107)][is.na(wine_raw[ ,c(8:107)])] <- 0\n",
    "head(wine_raw)"
   ]
  },
  {
   "cell_type": "markdown",
   "metadata": {},
   "source": [
    "For purposes of the clustering analysis, the rows should contain information about the various observations (i.e., customers) and the columns should contain the features (i.e., wheather a purchase was made or not for each offer). Therefore, we will transform the dataset to 1) extract only the offer id column and the customer name columns, and 2) transpose the dataframe such that the offer id's become column labels and each customer's purchase history is stored in a row. "
   ]
  },
  {
   "cell_type": "code",
   "execution_count": 4,
   "metadata": {
    "collapsed": false
   },
   "outputs": [
    {
     "data": {
      "text/html": [
       "<table>\n",
       "<thead><tr><th></th><th scope=col>offer1</th><th scope=col>offer2</th><th scope=col>offer3</th><th scope=col>offer4</th><th scope=col>offer5</th><th scope=col>offer6</th><th scope=col>offer7</th><th scope=col>offer8</th><th scope=col>offer9</th><th scope=col>offer10</th><th scope=col>...</th><th scope=col>offer23</th><th scope=col>offer24</th><th scope=col>offer25</th><th scope=col>offer26</th><th scope=col>offer27</th><th scope=col>offer28</th><th scope=col>offer29</th><th scope=col>offer30</th><th scope=col>offer31</th><th scope=col>offer32</th></tr></thead>\n",
       "<tbody>\n",
       "\t<tr><th scope=row>Adams</th><td>0  </td><td>0  </td><td>0  </td><td>0  </td><td>0  </td><td>0  </td><td>0  </td><td>0  </td><td>0  </td><td>0  </td><td>...</td><td>0  </td><td>0  </td><td>0  </td><td>0  </td><td>0  </td><td>0  </td><td>1  </td><td>1  </td><td>0  </td><td>0  </td></tr>\n",
       "\t<tr><th scope=row>Allen</th><td>0  </td><td>0  </td><td>0  </td><td>0  </td><td>0  </td><td>0  </td><td>0  </td><td>0  </td><td>1  </td><td>0  </td><td>...</td><td>0  </td><td>0  </td><td>0  </td><td>0  </td><td>1  </td><td>0  </td><td>0  </td><td>0  </td><td>0  </td><td>0  </td></tr>\n",
       "\t<tr><th scope=row>Anderson</th><td>0  </td><td>0  </td><td>0  </td><td>0  </td><td>0  </td><td>0  </td><td>0  </td><td>0  </td><td>0  </td><td>0  </td><td>...</td><td>0  </td><td>1  </td><td>0  </td><td>1  </td><td>0  </td><td>0  </td><td>0  </td><td>0  </td><td>0  </td><td>0  </td></tr>\n",
       "\t<tr><th scope=row>Bailey</th><td>0  </td><td>0  </td><td>0  </td><td>0  </td><td>0  </td><td>0  </td><td>1  </td><td>0  </td><td>0  </td><td>0  </td><td>...</td><td>0  </td><td>0  </td><td>0  </td><td>0  </td><td>0  </td><td>0  </td><td>0  </td><td>1  </td><td>0  </td><td>0  </td></tr>\n",
       "\t<tr><th scope=row>Baker</th><td>0  </td><td>0  </td><td>0  </td><td>0  </td><td>0  </td><td>0  </td><td>1  </td><td>0  </td><td>0  </td><td>1  </td><td>...</td><td>0  </td><td>0  </td><td>0  </td><td>0  </td><td>0  </td><td>0  </td><td>0  </td><td>0  </td><td>1  </td><td>0  </td></tr>\n",
       "\t<tr><th scope=row>Barnes</th><td>0  </td><td>0  </td><td>0  </td><td>0  </td><td>0  </td><td>0  </td><td>0  </td><td>0  </td><td>0  </td><td>1  </td><td>...</td><td>0  </td><td>0  </td><td>0  </td><td>0  </td><td>0  </td><td>0  </td><td>0  </td><td>0  </td><td>1  </td><td>0  </td></tr>\n",
       "</tbody>\n",
       "</table>\n"
      ],
      "text/latex": [
       "\\begin{tabular}{r|llllllllllllllllllllllllllllllll}\n",
       "  & offer1 & offer2 & offer3 & offer4 & offer5 & offer6 & offer7 & offer8 & offer9 & offer10 & ... & offer23 & offer24 & offer25 & offer26 & offer27 & offer28 & offer29 & offer30 & offer31 & offer32\\\\\n",
       "\\hline\n",
       "\tAdams & 0   & 0   & 0   & 0   & 0   & 0   & 0   & 0   & 0   & 0   & ... & 0   & 0   & 0   & 0   & 0   & 0   & 1   & 1   & 0   & 0  \\\\\n",
       "\tAllen & 0   & 0   & 0   & 0   & 0   & 0   & 0   & 0   & 1   & 0   & ... & 0   & 0   & 0   & 0   & 1   & 0   & 0   & 0   & 0   & 0  \\\\\n",
       "\tAnderson & 0   & 0   & 0   & 0   & 0   & 0   & 0   & 0   & 0   & 0   & ... & 0   & 1   & 0   & 1   & 0   & 0   & 0   & 0   & 0   & 0  \\\\\n",
       "\tBailey & 0   & 0   & 0   & 0   & 0   & 0   & 1   & 0   & 0   & 0   & ... & 0   & 0   & 0   & 0   & 0   & 0   & 0   & 1   & 0   & 0  \\\\\n",
       "\tBaker & 0   & 0   & 0   & 0   & 0   & 0   & 1   & 0   & 0   & 1   & ... & 0   & 0   & 0   & 0   & 0   & 0   & 0   & 0   & 1   & 0  \\\\\n",
       "\tBarnes & 0   & 0   & 0   & 0   & 0   & 0   & 0   & 0   & 0   & 1   & ... & 0   & 0   & 0   & 0   & 0   & 0   & 0   & 0   & 1   & 0  \\\\\n",
       "\\end{tabular}\n"
      ],
      "text/markdown": [
       "\n",
       "| <!--/--> | offer1 | offer2 | offer3 | offer4 | offer5 | offer6 | offer7 | offer8 | offer9 | offer10 | ... | offer23 | offer24 | offer25 | offer26 | offer27 | offer28 | offer29 | offer30 | offer31 | offer32 | \n",
       "|---|---|---|---|---|---|\n",
       "| Adams | 0   | 0   | 0   | 0   | 0   | 0   | 0   | 0   | 0   | 0   | ... | 0   | 0   | 0   | 0   | 0   | 0   | 1   | 1   | 0   | 0   | \n",
       "| Allen | 0   | 0   | 0   | 0   | 0   | 0   | 0   | 0   | 1   | 0   | ... | 0   | 0   | 0   | 0   | 1   | 0   | 0   | 0   | 0   | 0   | \n",
       "| Anderson | 0   | 0   | 0   | 0   | 0   | 0   | 0   | 0   | 0   | 0   | ... | 0   | 1   | 0   | 1   | 0   | 0   | 0   | 0   | 0   | 0   | \n",
       "| Bailey | 0   | 0   | 0   | 0   | 0   | 0   | 1   | 0   | 0   | 0   | ... | 0   | 0   | 0   | 0   | 0   | 0   | 0   | 1   | 0   | 0   | \n",
       "| Baker | 0   | 0   | 0   | 0   | 0   | 0   | 1   | 0   | 0   | 1   | ... | 0   | 0   | 0   | 0   | 0   | 0   | 0   | 0   | 1   | 0   | \n",
       "| Barnes | 0   | 0   | 0   | 0   | 0   | 0   | 0   | 0   | 0   | 1   | ... | 0   | 0   | 0   | 0   | 0   | 0   | 0   | 0   | 1   | 0   | \n",
       "\n",
       "\n"
      ],
      "text/plain": [
       "         offer1 offer2 offer3 offer4 offer5 offer6 offer7 offer8 offer9 offer10\n",
       "Adams    0      0      0      0      0      0      0      0      0      0      \n",
       "Allen    0      0      0      0      0      0      0      0      1      0      \n",
       "Anderson 0      0      0      0      0      0      0      0      0      0      \n",
       "Bailey   0      0      0      0      0      0      1      0      0      0      \n",
       "Baker    0      0      0      0      0      0      1      0      0      1      \n",
       "Barnes   0      0      0      0      0      0      0      0      0      1      \n",
       "         ... offer23 offer24 offer25 offer26 offer27 offer28 offer29 offer30\n",
       "Adams    ... 0       0       0       0       0       0       1       1      \n",
       "Allen    ... 0       0       0       0       1       0       0       0      \n",
       "Anderson ... 0       1       0       1       0       0       0       0      \n",
       "Bailey   ... 0       0       0       0       0       0       0       1      \n",
       "Baker    ... 0       0       0       0       0       0       0       0      \n",
       "Barnes   ... 0       0       0       0       0       0       0       0      \n",
       "         offer31 offer32\n",
       "Adams    0       0      \n",
       "Allen    0       0      \n",
       "Anderson 0       0      \n",
       "Bailey   0       0      \n",
       "Baker    1       0      \n",
       "Barnes   1       0      "
      ]
     },
     "metadata": {},
     "output_type": "display_data"
    },
    {
     "data": {
      "text/plain": [
       "     offer1        offer2        offer3         offer4         offer5    \n",
       " Min.   :0.0   Min.   :0.0   Min.   :0.00   Min.   :0.00   Min.   :0.00  \n",
       " 1st Qu.:0.0   1st Qu.:0.0   1st Qu.:0.00   1st Qu.:0.00   1st Qu.:0.00  \n",
       " Median :0.0   Median :0.0   Median :0.00   Median :0.00   Median :0.00  \n",
       " Mean   :0.1   Mean   :0.1   Mean   :0.06   Mean   :0.12   Mean   :0.04  \n",
       " 3rd Qu.:0.0   3rd Qu.:0.0   3rd Qu.:0.00   3rd Qu.:0.00   3rd Qu.:0.00  \n",
       " Max.   :1.0   Max.   :1.0   Max.   :1.00   Max.   :1.00   Max.   :1.00  \n",
       "     offer6         offer7         offer8        offer9       offer10    \n",
       " Min.   :0.00   Min.   :0.00   Min.   :0.0   Min.   :0.0   Min.   :0.00  \n",
       " 1st Qu.:0.00   1st Qu.:0.00   1st Qu.:0.0   1st Qu.:0.0   1st Qu.:0.00  \n",
       " Median :0.00   Median :0.00   Median :0.0   Median :0.0   Median :0.00  \n",
       " Mean   :0.12   Mean   :0.19   Mean   :0.2   Mean   :0.1   Mean   :0.07  \n",
       " 3rd Qu.:0.00   3rd Qu.:0.00   3rd Qu.:0.0   3rd Qu.:0.0   3rd Qu.:0.00  \n",
       " Max.   :1.00   Max.   :1.00   Max.   :1.0   Max.   :1.0   Max.   :1.00  \n",
       "    offer11        offer12        offer13        offer14        offer15    \n",
       " Min.   :0.00   Min.   :0.00   Min.   :0.00   Min.   :0.00   Min.   :0.00  \n",
       " 1st Qu.:0.00   1st Qu.:0.00   1st Qu.:0.00   1st Qu.:0.00   1st Qu.:0.00  \n",
       " Median :0.00   Median :0.00   Median :0.00   Median :0.00   Median :0.00  \n",
       " Mean   :0.13   Mean   :0.05   Mean   :0.06   Mean   :0.09   Mean   :0.06  \n",
       " 3rd Qu.:0.00   3rd Qu.:0.00   3rd Qu.:0.00   3rd Qu.:0.00   3rd Qu.:0.00  \n",
       " Max.   :1.00   Max.   :1.00   Max.   :1.00   Max.   :1.00   Max.   :1.00  \n",
       "    offer16        offer17        offer18        offer19        offer20    \n",
       " Min.   :0.00   Min.   :0.00   Min.   :0.00   Min.   :0.00   Min.   :0.00  \n",
       " 1st Qu.:0.00   1st Qu.:0.00   1st Qu.:0.00   1st Qu.:0.00   1st Qu.:0.00  \n",
       " Median :0.00   Median :0.00   Median :0.00   Median :0.00   Median :0.00  \n",
       " Mean   :0.05   Mean   :0.07   Mean   :0.14   Mean   :0.05   Mean   :0.06  \n",
       " 3rd Qu.:0.00   3rd Qu.:0.00   3rd Qu.:0.00   3rd Qu.:0.00   3rd Qu.:0.00  \n",
       " Max.   :1.00   Max.   :1.00   Max.   :1.00   Max.   :1.00   Max.   :1.00  \n",
       "    offer21        offer22        offer23        offer24        offer25    \n",
       " Min.   :0.00   Min.   :0.00   Min.   :0.00   Min.   :0.00   Min.   :0.00  \n",
       " 1st Qu.:0.00   1st Qu.:0.00   1st Qu.:0.00   1st Qu.:0.00   1st Qu.:0.00  \n",
       " Median :0.00   Median :0.00   Median :0.00   Median :0.00   Median :0.00  \n",
       " Mean   :0.04   Mean   :0.21   Mean   :0.05   Mean   :0.12   Mean   :0.06  \n",
       " 3rd Qu.:0.00   3rd Qu.:0.00   3rd Qu.:0.00   3rd Qu.:0.00   3rd Qu.:0.00  \n",
       " Max.   :1.00   Max.   :1.00   Max.   :1.00   Max.   :1.00   Max.   :1.00  \n",
       "    offer26        offer27        offer28        offer29        offer30    \n",
       " Min.   :0.00   Min.   :0.00   Min.   :0.00   Min.   :0.00   Min.   :0.00  \n",
       " 1st Qu.:0.00   1st Qu.:0.00   1st Qu.:0.00   1st Qu.:0.00   1st Qu.:0.00  \n",
       " Median :0.00   Median :0.00   Median :0.00   Median :0.00   Median :0.00  \n",
       " Mean   :0.15   Mean   :0.09   Mean   :0.06   Mean   :0.17   Mean   :0.22  \n",
       " 3rd Qu.:0.00   3rd Qu.:0.00   3rd Qu.:0.00   3rd Qu.:0.00   3rd Qu.:0.00  \n",
       " Max.   :1.00   Max.   :1.00   Max.   :1.00   Max.   :1.00   Max.   :1.00  \n",
       "    offer31        offer32    \n",
       " Min.   :0.00   Min.   :0.00  \n",
       " 1st Qu.:0.00   1st Qu.:0.00  \n",
       " Median :0.00   Median :0.00  \n",
       " Mean   :0.17   Mean   :0.04  \n",
       " 3rd Qu.:0.00   3rd Qu.:0.00  \n",
       " Max.   :1.00   Max.   :1.00  "
      ]
     },
     "metadata": {},
     "output_type": "display_data"
    }
   ],
   "source": [
    "offerid <- paste(\"offer\", wine_raw[ ,1], sep=\"\")\n",
    "wine <- t(wine_raw[ ,c(8:107)])\n",
    "wine <- data.frame(wine)\n",
    "colnames(wine) <- offerid\n",
    "head(wine)\n",
    "summary(wine)"
   ]
  },
  {
   "cell_type": "markdown",
   "metadata": {},
   "source": [
    "From the summary statistics above, we see that purchase data is encoded as a numeric variable, the medians are equal to 0 and the means are close to 0, suggesting that the purchase data is fairly sparse (i.e., there are only a few purchases made by each customer). \n",
    "\n",
    "Also, since the features are binary 0-1 variables indicating if a purchase has been made, we do not have to standardize the data (a necessary step when working with data measured on different scales, e.g., if we also had columns with demographic data about the customers). \n",
    "\n",
    "Since interpreting and visualizing clusters in two dimension is much easier than in p-dimensional space, we will check to see if the data can be reduced to two dimensations that explain a good chunk of the total variation. For this, we will apply Principal Component Analysis. "
   ]
  },
  {
   "cell_type": "code",
   "execution_count": 5,
   "metadata": {
    "collapsed": false
   },
   "outputs": [
    {
     "data": {
      "text/plain": [
       "Importance of components:\n",
       "                          PC1    PC2     PC3     PC4     PC5     PC6     PC7\n",
       "Standard deviation     0.6400 0.5546 0.44977 0.40870 0.38750 0.37873 0.37174\n",
       "Proportion of Variance 0.1439 0.1080 0.07104 0.05866 0.05273 0.05037 0.04853\n",
       "Cumulative Proportion  0.1439 0.2519 0.32291 0.38157 0.43430 0.48468 0.53321\n",
       "                           PC8     PC9    PC10   PC11    PC12    PC13    PC14\n",
       "Standard deviation     0.34917 0.34112 0.32870 0.3152 0.30816 0.29479 0.26938\n",
       "Proportion of Variance 0.04282 0.04086 0.03794 0.0349 0.03335 0.03052 0.02548\n",
       "Cumulative Proportion  0.57602 0.61689 0.65483 0.6897 0.72308 0.75360 0.77909\n",
       "                          PC15    PC16    PC17    PC18    PC19    PC20   PC21\n",
       "Standard deviation     0.25710 0.24991 0.23737 0.23081 0.21746 0.20962 0.1975\n",
       "Proportion of Variance 0.02321 0.02193 0.01979 0.01871 0.01661 0.01543 0.0137\n",
       "Cumulative Proportion  0.80230 0.82423 0.84402 0.86273 0.87934 0.89477 0.9085\n",
       "                          PC22    PC23    PC24    PC25    PC26    PC27    PC28\n",
       "Standard deviation     0.19041 0.18590 0.17986 0.17148 0.16181 0.15193 0.14638\n",
       "Proportion of Variance 0.01273 0.01214 0.01136 0.01033 0.00919 0.00811 0.00752\n",
       "Cumulative Proportion  0.92120 0.93333 0.94470 0.95502 0.96422 0.97232 0.97985\n",
       "                          PC29   PC30    PC31    PC32\n",
       "Standard deviation     0.13716 0.1286 0.11942 0.08820\n",
       "Proportion of Variance 0.00661 0.0058 0.00501 0.00273\n",
       "Cumulative Proportion  0.98646 0.9923 0.99727 1.00000"
      ]
     },
     "metadata": {},
     "output_type": "display_data"
    }
   ],
   "source": [
    "# Apply PCA\n",
    "pc <-prcomp(wine, scale=FALSE)\n",
    "summary(pc)"
   ]
  },
  {
   "cell_type": "code",
   "execution_count": 6,
   "metadata": {
    "collapsed": false
   },
   "outputs": [
    {
     "data": {
      "text/html": [
       "<strong>PC15:</strong> 15"
      ],
      "text/latex": [
       "\\textbf{PC15:} 15"
      ],
      "text/markdown": [
       "**PC15:** 15"
      ],
      "text/plain": [
       "PC15 \n",
       "  15 "
      ]
     },
     "metadata": {},
     "output_type": "display_data"
    }
   ],
   "source": [
    "# How many principal components does it take to explain at least 80% of the variation:\n",
    "which(summary(pc)$importance[3,] > 0.8)[1]"
   ]
  },
  {
   "cell_type": "markdown",
   "metadata": {},
   "source": [
    "The first two principal components explain about 25% of the total variation in the data and it takes 15 principal components to explain at least 80% of the variance. Therefore, PCA cannot help us reduce the data to two dimensitions without significant loss of information. We will proceed with the original set of dimensions. \n",
    "\n",
    "## Application of K-Means clustering with random cluster initialization\n",
    "\n",
    "Since we are looking to create targeted offers to a small group of customers, we will start with a small number of clusters, such as 4. "
   ]
  },
  {
   "cell_type": "code",
   "execution_count": 7,
   "metadata": {
    "collapsed": false
   },
   "outputs": [
    {
     "data": {
      "text/plain": [
       "K-means clustering with 4 clusters of sizes 20, 32, 16, 32\n",
       "\n",
       "Cluster means:\n",
       "  offer1 offer2  offer3  offer4 offer5  offer6 offer7  offer8  offer9 offer10\n",
       "1 0.0500  0.000 0.25000 0.25000  0.000 0.55000 0.2500 0.20000 0.05000  0.3000\n",
       "2 0.2500  0.125 0.03125 0.21875  0.125 0.03125 0.0000 0.03125 0.28125  0.0000\n",
       "3 0.0625  0.375 0.00000 0.00000  0.000 0.00000 0.0000 0.00000 0.00000  0.0625\n",
       "4 0.0000  0.000 0.00000 0.00000  0.000 0.00000 0.4375 0.46875 0.00000  0.0000\n",
       "  offer11 offer12 offer13 offer14 offer15 offer16 offer17 offer18 offer19\n",
       "1 0.00000 0.00000  0.0000  0.1500   0.100  0.0000  0.0000   0.100    0.25\n",
       "2 0.40625 0.09375  0.0000  0.1875   0.125  0.1250  0.0000   0.000    0.00\n",
       "3 0.00000 0.06250  0.0000  0.0000   0.000  0.0625  0.4375   0.000    0.00\n",
       "4 0.00000 0.03125  0.1875  0.0000   0.000  0.0000  0.0000   0.375    0.00\n",
       "  offer20 offer21 offer22 offer23 offer24 offer25 offer26 offer27 offer28\n",
       "1 0.05000 0.15000   0.450  0.1000    0.00  0.0000 0.00000 0.20000 0.00000\n",
       "2 0.15625 0.00000   0.375  0.0625    0.00  0.1875 0.09375 0.09375 0.15625\n",
       "3 0.00000 0.00000   0.000  0.0625    0.75  0.0000 0.75000 0.06250 0.00000\n",
       "4 0.00000 0.03125   0.000  0.0000    0.00  0.0000 0.00000 0.03125 0.03125\n",
       "  offer29 offer30 offer31 offer32\n",
       "1 0.00000  0.0000 0.60000  0.1000\n",
       "2 0.03125  0.1875 0.15625  0.0625\n",
       "3 0.00000  0.0000 0.00000  0.0000\n",
       "4 0.50000  0.5000 0.00000  0.0000\n",
       "\n",
       "Clustering vector:\n",
       "     Adams      Allen   Anderson     Bailey      Baker     Barnes       Bell \n",
       "         4          2          3          4          1          1          3 \n",
       "   Bennett     Brooks      Brown     Butler   Campbell     Carter      Clark \n",
       "         4          2          4          2          3          4          2 \n",
       "   Collins       Cook     Cooper        Cox       Cruz      Davis       Diaz \n",
       "         2          3          2          3          4          2          4 \n",
       "   Edwards      Evans     Fisher     Flores     Foster     Garcia      Gomez \n",
       "         4          2          2          3          2          2          2 \n",
       "  Gonzalez       Gray      Green  Gutierrez       Hall     Harris  Hernandez \n",
       "         2          3          4          1          2          1          4 \n",
       "      Hill     Howard     Hughes    Jackson      James    Jenkins    Johnson \n",
       "         4          2          4          2          4          3          3 \n",
       "     Jones      Kelly       King        Lee      Lewis       Long      Lopez \n",
       "         4          1          4          1          4          1          2 \n",
       "    Martin   Martinez     Miller   Mitchell      Moore    Morales     Morgan \n",
       "         2          2          1          2          3          1          4 \n",
       "    Morris     Murphy      Myers     Nelson     Nguyen      Ortiz     Parker \n",
       "         3          4          4          1          1          4          2 \n",
       "     Perez      Perry   Peterson   Phillips     Powell      Price    Ramirez \n",
       "         4          4          3          3          2          2          2 \n",
       "      Reed      Reyes Richardson     Rivera    Roberts   Robinson  Rodriguez \n",
       "         2          2          1          4          1          4          3 \n",
       "    Rogers       Ross    Russell    Sanchez    Sanders      Scott      Smith \n",
       "         1          4          3          2          2          1          3 \n",
       "   Stewart   Sullivan     Taylor     Thomas   Thompson     Torres     Turner \n",
       "         4          4          4          2          2          4          1 \n",
       "    Walker       Ward     Watson      White   Williams     Wilson       Wood \n",
       "         4          2          4          2          1          4          1 \n",
       "    Wright      Young \n",
       "         1          1 \n",
       "\n",
       "Within cluster sum of squares by cluster:\n",
       "[1] 55.45000 90.21875 19.31250 48.09375\n",
       " (between_SS / total_SS =  24.4 %)\n",
       "\n",
       "Available components:\n",
       "\n",
       "[1] \"cluster\"      \"centers\"      \"totss\"        \"withinss\"     \"tot.withinss\"\n",
       "[6] \"betweenss\"    \"size\"         \"iter\"         \"ifault\"      "
      ]
     },
     "metadata": {},
     "output_type": "display_data"
    },
    {
     "data": {
      "text/html": [
       "<span style=white-space:pre-wrap>'The total within-cluster variance is:  213.075'</span>"
      ],
      "text/latex": [
       "'The total within-cluster variance is:  213.075'"
      ],
      "text/markdown": [
       "<span style=white-space:pre-wrap>'The total within-cluster variance is:  213.075'</span>"
      ],
      "text/plain": [
       "[1] \"The total within-cluster variance is:  213.075\""
      ]
     },
     "metadata": {},
     "output_type": "display_data"
    }
   ],
   "source": [
    "# Set seed because the initialization stage is random \n",
    "set.seed(14)\n",
    "# Set nstart=20 to run the k-means algorithm 20 times with different random intialization of the clusters each time\n",
    "kmeans.out <- kmeans(wine, 4, nstart=20)\n",
    "# Summarize output\n",
    "kmeans.out\n",
    "paste(\"The total within-cluster variance is: \", kmeans.out$tot.withinss)"
   ]
  },
  {
   "cell_type": "markdown",
   "metadata": {},
   "source": [
    "The ratio of \"between sum-of-squares\" and \"total sum-of-squares\" is somewhat small (24%) indicating that the separation into clusters is not particularly good. "
   ]
  },
  {
   "cell_type": "code",
   "execution_count": 8,
   "metadata": {
    "collapsed": false
   },
   "outputs": [
    {
     "data": {
      "text/html": [
       "<dl class=dl-horizontal>\n",
       "\t<dt>Adams</dt>\n",
       "\t\t<dd>4</dd>\n",
       "\t<dt>Allen</dt>\n",
       "\t\t<dd>2</dd>\n",
       "\t<dt>Anderson</dt>\n",
       "\t\t<dd>3</dd>\n",
       "\t<dt>Bailey</dt>\n",
       "\t\t<dd>4</dd>\n",
       "\t<dt>Baker</dt>\n",
       "\t\t<dd>1</dd>\n",
       "\t<dt>Barnes</dt>\n",
       "\t\t<dd>1</dd>\n",
       "\t<dt>Bell</dt>\n",
       "\t\t<dd>3</dd>\n",
       "\t<dt>Bennett</dt>\n",
       "\t\t<dd>4</dd>\n",
       "\t<dt>Brooks</dt>\n",
       "\t\t<dd>2</dd>\n",
       "\t<dt>Brown</dt>\n",
       "\t\t<dd>4</dd>\n",
       "\t<dt>Butler</dt>\n",
       "\t\t<dd>2</dd>\n",
       "\t<dt>Campbell</dt>\n",
       "\t\t<dd>3</dd>\n",
       "\t<dt>Carter</dt>\n",
       "\t\t<dd>4</dd>\n",
       "\t<dt>Clark</dt>\n",
       "\t\t<dd>2</dd>\n",
       "\t<dt>Collins</dt>\n",
       "\t\t<dd>2</dd>\n",
       "\t<dt>Cook</dt>\n",
       "\t\t<dd>3</dd>\n",
       "\t<dt>Cooper</dt>\n",
       "\t\t<dd>2</dd>\n",
       "\t<dt>Cox</dt>\n",
       "\t\t<dd>3</dd>\n",
       "\t<dt>Cruz</dt>\n",
       "\t\t<dd>4</dd>\n",
       "\t<dt>Davis</dt>\n",
       "\t\t<dd>2</dd>\n",
       "\t<dt>Diaz</dt>\n",
       "\t\t<dd>4</dd>\n",
       "\t<dt>Edwards</dt>\n",
       "\t\t<dd>4</dd>\n",
       "\t<dt>Evans</dt>\n",
       "\t\t<dd>2</dd>\n",
       "\t<dt>Fisher</dt>\n",
       "\t\t<dd>2</dd>\n",
       "\t<dt>Flores</dt>\n",
       "\t\t<dd>3</dd>\n",
       "\t<dt>Foster</dt>\n",
       "\t\t<dd>2</dd>\n",
       "\t<dt>Garcia</dt>\n",
       "\t\t<dd>2</dd>\n",
       "\t<dt>Gomez</dt>\n",
       "\t\t<dd>2</dd>\n",
       "\t<dt>Gonzalez</dt>\n",
       "\t\t<dd>2</dd>\n",
       "\t<dt>Gray</dt>\n",
       "\t\t<dd>3</dd>\n",
       "\t<dt>Green</dt>\n",
       "\t\t<dd>4</dd>\n",
       "\t<dt>Gutierrez</dt>\n",
       "\t\t<dd>1</dd>\n",
       "\t<dt>Hall</dt>\n",
       "\t\t<dd>2</dd>\n",
       "\t<dt>Harris</dt>\n",
       "\t\t<dd>1</dd>\n",
       "\t<dt>Hernandez</dt>\n",
       "\t\t<dd>4</dd>\n",
       "\t<dt>Hill</dt>\n",
       "\t\t<dd>4</dd>\n",
       "\t<dt>Howard</dt>\n",
       "\t\t<dd>2</dd>\n",
       "\t<dt>Hughes</dt>\n",
       "\t\t<dd>4</dd>\n",
       "\t<dt>Jackson</dt>\n",
       "\t\t<dd>2</dd>\n",
       "\t<dt>James</dt>\n",
       "\t\t<dd>4</dd>\n",
       "\t<dt>Jenkins</dt>\n",
       "\t\t<dd>3</dd>\n",
       "\t<dt>Johnson</dt>\n",
       "\t\t<dd>3</dd>\n",
       "\t<dt>Jones</dt>\n",
       "\t\t<dd>4</dd>\n",
       "\t<dt>Kelly</dt>\n",
       "\t\t<dd>1</dd>\n",
       "\t<dt>King</dt>\n",
       "\t\t<dd>4</dd>\n",
       "\t<dt>Lee</dt>\n",
       "\t\t<dd>1</dd>\n",
       "\t<dt>Lewis</dt>\n",
       "\t\t<dd>4</dd>\n",
       "\t<dt>Long</dt>\n",
       "\t\t<dd>1</dd>\n",
       "\t<dt>Lopez</dt>\n",
       "\t\t<dd>2</dd>\n",
       "\t<dt>Martin</dt>\n",
       "\t\t<dd>2</dd>\n",
       "\t<dt>Martinez</dt>\n",
       "\t\t<dd>2</dd>\n",
       "\t<dt>Miller</dt>\n",
       "\t\t<dd>1</dd>\n",
       "\t<dt>Mitchell</dt>\n",
       "\t\t<dd>2</dd>\n",
       "\t<dt>Moore</dt>\n",
       "\t\t<dd>3</dd>\n",
       "\t<dt>Morales</dt>\n",
       "\t\t<dd>1</dd>\n",
       "\t<dt>Morgan</dt>\n",
       "\t\t<dd>4</dd>\n",
       "\t<dt>Morris</dt>\n",
       "\t\t<dd>3</dd>\n",
       "\t<dt>Murphy</dt>\n",
       "\t\t<dd>4</dd>\n",
       "\t<dt>Myers</dt>\n",
       "\t\t<dd>4</dd>\n",
       "\t<dt>Nelson</dt>\n",
       "\t\t<dd>1</dd>\n",
       "\t<dt>Nguyen</dt>\n",
       "\t\t<dd>1</dd>\n",
       "\t<dt>Ortiz</dt>\n",
       "\t\t<dd>4</dd>\n",
       "\t<dt>Parker</dt>\n",
       "\t\t<dd>2</dd>\n",
       "\t<dt>Perez</dt>\n",
       "\t\t<dd>4</dd>\n",
       "\t<dt>Perry</dt>\n",
       "\t\t<dd>4</dd>\n",
       "\t<dt>Peterson</dt>\n",
       "\t\t<dd>3</dd>\n",
       "\t<dt>Phillips</dt>\n",
       "\t\t<dd>3</dd>\n",
       "\t<dt>Powell</dt>\n",
       "\t\t<dd>2</dd>\n",
       "\t<dt>Price</dt>\n",
       "\t\t<dd>2</dd>\n",
       "\t<dt>Ramirez</dt>\n",
       "\t\t<dd>2</dd>\n",
       "\t<dt>Reed</dt>\n",
       "\t\t<dd>2</dd>\n",
       "\t<dt>Reyes</dt>\n",
       "\t\t<dd>2</dd>\n",
       "\t<dt>Richardson</dt>\n",
       "\t\t<dd>1</dd>\n",
       "\t<dt>Rivera</dt>\n",
       "\t\t<dd>4</dd>\n",
       "\t<dt>Roberts</dt>\n",
       "\t\t<dd>1</dd>\n",
       "\t<dt>Robinson</dt>\n",
       "\t\t<dd>4</dd>\n",
       "\t<dt>Rodriguez</dt>\n",
       "\t\t<dd>3</dd>\n",
       "\t<dt>Rogers</dt>\n",
       "\t\t<dd>1</dd>\n",
       "\t<dt>Ross</dt>\n",
       "\t\t<dd>4</dd>\n",
       "\t<dt>Russell</dt>\n",
       "\t\t<dd>3</dd>\n",
       "\t<dt>Sanchez</dt>\n",
       "\t\t<dd>2</dd>\n",
       "\t<dt>Sanders</dt>\n",
       "\t\t<dd>2</dd>\n",
       "\t<dt>Scott</dt>\n",
       "\t\t<dd>1</dd>\n",
       "\t<dt>Smith</dt>\n",
       "\t\t<dd>3</dd>\n",
       "\t<dt>Stewart</dt>\n",
       "\t\t<dd>4</dd>\n",
       "\t<dt>Sullivan</dt>\n",
       "\t\t<dd>4</dd>\n",
       "\t<dt>Taylor</dt>\n",
       "\t\t<dd>4</dd>\n",
       "\t<dt>Thomas</dt>\n",
       "\t\t<dd>2</dd>\n",
       "\t<dt>Thompson</dt>\n",
       "\t\t<dd>2</dd>\n",
       "\t<dt>Torres</dt>\n",
       "\t\t<dd>4</dd>\n",
       "\t<dt>Turner</dt>\n",
       "\t\t<dd>1</dd>\n",
       "\t<dt>Walker</dt>\n",
       "\t\t<dd>4</dd>\n",
       "\t<dt>Ward</dt>\n",
       "\t\t<dd>2</dd>\n",
       "\t<dt>Watson</dt>\n",
       "\t\t<dd>4</dd>\n",
       "\t<dt>White</dt>\n",
       "\t\t<dd>2</dd>\n",
       "\t<dt>Williams</dt>\n",
       "\t\t<dd>1</dd>\n",
       "\t<dt>Wilson</dt>\n",
       "\t\t<dd>4</dd>\n",
       "\t<dt>Wood</dt>\n",
       "\t\t<dd>1</dd>\n",
       "\t<dt>Wright</dt>\n",
       "\t\t<dd>1</dd>\n",
       "\t<dt>Young</dt>\n",
       "\t\t<dd>1</dd>\n",
       "</dl>\n"
      ],
      "text/latex": [
       "\\begin{description*}\n",
       "\\item[Adams] 4\n",
       "\\item[Allen] 2\n",
       "\\item[Anderson] 3\n",
       "\\item[Bailey] 4\n",
       "\\item[Baker] 1\n",
       "\\item[Barnes] 1\n",
       "\\item[Bell] 3\n",
       "\\item[Bennett] 4\n",
       "\\item[Brooks] 2\n",
       "\\item[Brown] 4\n",
       "\\item[Butler] 2\n",
       "\\item[Campbell] 3\n",
       "\\item[Carter] 4\n",
       "\\item[Clark] 2\n",
       "\\item[Collins] 2\n",
       "\\item[Cook] 3\n",
       "\\item[Cooper] 2\n",
       "\\item[Cox] 3\n",
       "\\item[Cruz] 4\n",
       "\\item[Davis] 2\n",
       "\\item[Diaz] 4\n",
       "\\item[Edwards] 4\n",
       "\\item[Evans] 2\n",
       "\\item[Fisher] 2\n",
       "\\item[Flores] 3\n",
       "\\item[Foster] 2\n",
       "\\item[Garcia] 2\n",
       "\\item[Gomez] 2\n",
       "\\item[Gonzalez] 2\n",
       "\\item[Gray] 3\n",
       "\\item[Green] 4\n",
       "\\item[Gutierrez] 1\n",
       "\\item[Hall] 2\n",
       "\\item[Harris] 1\n",
       "\\item[Hernandez] 4\n",
       "\\item[Hill] 4\n",
       "\\item[Howard] 2\n",
       "\\item[Hughes] 4\n",
       "\\item[Jackson] 2\n",
       "\\item[James] 4\n",
       "\\item[Jenkins] 3\n",
       "\\item[Johnson] 3\n",
       "\\item[Jones] 4\n",
       "\\item[Kelly] 1\n",
       "\\item[King] 4\n",
       "\\item[Lee] 1\n",
       "\\item[Lewis] 4\n",
       "\\item[Long] 1\n",
       "\\item[Lopez] 2\n",
       "\\item[Martin] 2\n",
       "\\item[Martinez] 2\n",
       "\\item[Miller] 1\n",
       "\\item[Mitchell] 2\n",
       "\\item[Moore] 3\n",
       "\\item[Morales] 1\n",
       "\\item[Morgan] 4\n",
       "\\item[Morris] 3\n",
       "\\item[Murphy] 4\n",
       "\\item[Myers] 4\n",
       "\\item[Nelson] 1\n",
       "\\item[Nguyen] 1\n",
       "\\item[Ortiz] 4\n",
       "\\item[Parker] 2\n",
       "\\item[Perez] 4\n",
       "\\item[Perry] 4\n",
       "\\item[Peterson] 3\n",
       "\\item[Phillips] 3\n",
       "\\item[Powell] 2\n",
       "\\item[Price] 2\n",
       "\\item[Ramirez] 2\n",
       "\\item[Reed] 2\n",
       "\\item[Reyes] 2\n",
       "\\item[Richardson] 1\n",
       "\\item[Rivera] 4\n",
       "\\item[Roberts] 1\n",
       "\\item[Robinson] 4\n",
       "\\item[Rodriguez] 3\n",
       "\\item[Rogers] 1\n",
       "\\item[Ross] 4\n",
       "\\item[Russell] 3\n",
       "\\item[Sanchez] 2\n",
       "\\item[Sanders] 2\n",
       "\\item[Scott] 1\n",
       "\\item[Smith] 3\n",
       "\\item[Stewart] 4\n",
       "\\item[Sullivan] 4\n",
       "\\item[Taylor] 4\n",
       "\\item[Thomas] 2\n",
       "\\item[Thompson] 2\n",
       "\\item[Torres] 4\n",
       "\\item[Turner] 1\n",
       "\\item[Walker] 4\n",
       "\\item[Ward] 2\n",
       "\\item[Watson] 4\n",
       "\\item[White] 2\n",
       "\\item[Williams] 1\n",
       "\\item[Wilson] 4\n",
       "\\item[Wood] 1\n",
       "\\item[Wright] 1\n",
       "\\item[Young] 1\n",
       "\\end{description*}\n"
      ],
      "text/markdown": [
       "Adams\n",
       ":   4Allen\n",
       ":   2Anderson\n",
       ":   3Bailey\n",
       ":   4Baker\n",
       ":   1Barnes\n",
       ":   1Bell\n",
       ":   3Bennett\n",
       ":   4Brooks\n",
       ":   2Brown\n",
       ":   4Butler\n",
       ":   2Campbell\n",
       ":   3Carter\n",
       ":   4Clark\n",
       ":   2Collins\n",
       ":   2Cook\n",
       ":   3Cooper\n",
       ":   2Cox\n",
       ":   3Cruz\n",
       ":   4Davis\n",
       ":   2Diaz\n",
       ":   4Edwards\n",
       ":   4Evans\n",
       ":   2Fisher\n",
       ":   2Flores\n",
       ":   3Foster\n",
       ":   2Garcia\n",
       ":   2Gomez\n",
       ":   2Gonzalez\n",
       ":   2Gray\n",
       ":   3Green\n",
       ":   4Gutierrez\n",
       ":   1Hall\n",
       ":   2Harris\n",
       ":   1Hernandez\n",
       ":   4Hill\n",
       ":   4Howard\n",
       ":   2Hughes\n",
       ":   4Jackson\n",
       ":   2James\n",
       ":   4Jenkins\n",
       ":   3Johnson\n",
       ":   3Jones\n",
       ":   4Kelly\n",
       ":   1King\n",
       ":   4Lee\n",
       ":   1Lewis\n",
       ":   4Long\n",
       ":   1Lopez\n",
       ":   2Martin\n",
       ":   2Martinez\n",
       ":   2Miller\n",
       ":   1Mitchell\n",
       ":   2Moore\n",
       ":   3Morales\n",
       ":   1Morgan\n",
       ":   4Morris\n",
       ":   3Murphy\n",
       ":   4Myers\n",
       ":   4Nelson\n",
       ":   1Nguyen\n",
       ":   1Ortiz\n",
       ":   4Parker\n",
       ":   2Perez\n",
       ":   4Perry\n",
       ":   4Peterson\n",
       ":   3Phillips\n",
       ":   3Powell\n",
       ":   2Price\n",
       ":   2Ramirez\n",
       ":   2Reed\n",
       ":   2Reyes\n",
       ":   2Richardson\n",
       ":   1Rivera\n",
       ":   4Roberts\n",
       ":   1Robinson\n",
       ":   4Rodriguez\n",
       ":   3Rogers\n",
       ":   1Ross\n",
       ":   4Russell\n",
       ":   3Sanchez\n",
       ":   2Sanders\n",
       ":   2Scott\n",
       ":   1Smith\n",
       ":   3Stewart\n",
       ":   4Sullivan\n",
       ":   4Taylor\n",
       ":   4Thomas\n",
       ":   2Thompson\n",
       ":   2Torres\n",
       ":   4Turner\n",
       ":   1Walker\n",
       ":   4Ward\n",
       ":   2Watson\n",
       ":   4White\n",
       ":   2Williams\n",
       ":   1Wilson\n",
       ":   4Wood\n",
       ":   1Wright\n",
       ":   1Young\n",
       ":   1\n",
       "\n"
      ],
      "text/plain": [
       "     Adams      Allen   Anderson     Bailey      Baker     Barnes       Bell \n",
       "         4          2          3          4          1          1          3 \n",
       "   Bennett     Brooks      Brown     Butler   Campbell     Carter      Clark \n",
       "         4          2          4          2          3          4          2 \n",
       "   Collins       Cook     Cooper        Cox       Cruz      Davis       Diaz \n",
       "         2          3          2          3          4          2          4 \n",
       "   Edwards      Evans     Fisher     Flores     Foster     Garcia      Gomez \n",
       "         4          2          2          3          2          2          2 \n",
       "  Gonzalez       Gray      Green  Gutierrez       Hall     Harris  Hernandez \n",
       "         2          3          4          1          2          1          4 \n",
       "      Hill     Howard     Hughes    Jackson      James    Jenkins    Johnson \n",
       "         4          2          4          2          4          3          3 \n",
       "     Jones      Kelly       King        Lee      Lewis       Long      Lopez \n",
       "         4          1          4          1          4          1          2 \n",
       "    Martin   Martinez     Miller   Mitchell      Moore    Morales     Morgan \n",
       "         2          2          1          2          3          1          4 \n",
       "    Morris     Murphy      Myers     Nelson     Nguyen      Ortiz     Parker \n",
       "         3          4          4          1          1          4          2 \n",
       "     Perez      Perry   Peterson   Phillips     Powell      Price    Ramirez \n",
       "         4          4          3          3          2          2          2 \n",
       "      Reed      Reyes Richardson     Rivera    Roberts   Robinson  Rodriguez \n",
       "         2          2          1          4          1          4          3 \n",
       "    Rogers       Ross    Russell    Sanchez    Sanders      Scott      Smith \n",
       "         1          4          3          2          2          1          3 \n",
       "   Stewart   Sullivan     Taylor     Thomas   Thompson     Torres     Turner \n",
       "         4          4          4          2          2          4          1 \n",
       "    Walker       Ward     Watson      White   Williams     Wilson       Wood \n",
       "         4          2          4          2          1          4          1 \n",
       "    Wright      Young \n",
       "         1          1 "
      ]
     },
     "metadata": {},
     "output_type": "display_data"
    }
   ],
   "source": [
    "# Review the cluster assignments \n",
    "km.clusters <- kmeans.out$cluster\n",
    "km.clusters"
   ]
  },
  {
   "cell_type": "markdown",
   "metadata": {},
   "source": [
    "### Interpreting the clusters\n",
    "How can we interpret the clusters in this p-dimensional space? We can display the cluster centroids and look at which feature means are close to 1 vs 0. Features means closer to 1 indicate that a larger number of people purchased this offer, while features means close to 0 indicate low demand for this offer. \n",
    "\n",
    "We will first examine cluster 1 by sorting the vector elements of its cluster centroid in descenting order:"
   ]
  },
  {
   "cell_type": "code",
   "execution_count": 9,
   "metadata": {
    "collapsed": false
   },
   "outputs": [
    {
     "data": {
      "text/html": [
       "<table>\n",
       "<thead><tr><th></th><th scope=col>cluster1</th><th scope=col>cluster2</th><th scope=col>cluster3</th><th scope=col>cluster4</th></tr></thead>\n",
       "<tbody>\n",
       "\t<tr><th scope=row>offer31</th><td>0.60   </td><td>0.15625</td><td>0.0000 </td><td>0.00000</td></tr>\n",
       "\t<tr><th scope=row>offer6</th><td>0.55   </td><td>0.03125</td><td>0.0000 </td><td>0.00000</td></tr>\n",
       "\t<tr><th scope=row>offer22</th><td>0.45   </td><td>0.37500</td><td>0.0000 </td><td>0.00000</td></tr>\n",
       "\t<tr><th scope=row>offer10</th><td>0.30   </td><td>0.00000</td><td>0.0625 </td><td>0.00000</td></tr>\n",
       "\t<tr><th scope=row>offer3</th><td>0.25   </td><td>0.03125</td><td>0.0000 </td><td>0.00000</td></tr>\n",
       "\t<tr><th scope=row>offer4</th><td>0.25   </td><td>0.21875</td><td>0.0000 </td><td>0.00000</td></tr>\n",
       "\t<tr><th scope=row>offer7</th><td>0.25   </td><td>0.00000</td><td>0.0000 </td><td>0.43750</td></tr>\n",
       "\t<tr><th scope=row>offer19</th><td>0.25   </td><td>0.00000</td><td>0.0000 </td><td>0.00000</td></tr>\n",
       "\t<tr><th scope=row>offer8</th><td>0.20   </td><td>0.03125</td><td>0.0000 </td><td>0.46875</td></tr>\n",
       "\t<tr><th scope=row>offer27</th><td>0.20   </td><td>0.09375</td><td>0.0625 </td><td>0.03125</td></tr>\n",
       "\t<tr><th scope=row>offer14</th><td>0.15   </td><td>0.18750</td><td>0.0000 </td><td>0.00000</td></tr>\n",
       "\t<tr><th scope=row>offer21</th><td>0.15   </td><td>0.00000</td><td>0.0000 </td><td>0.03125</td></tr>\n",
       "\t<tr><th scope=row>offer15</th><td>0.10   </td><td>0.12500</td><td>0.0000 </td><td>0.00000</td></tr>\n",
       "\t<tr><th scope=row>offer18</th><td>0.10   </td><td>0.00000</td><td>0.0000 </td><td>0.37500</td></tr>\n",
       "\t<tr><th scope=row>offer23</th><td>0.10   </td><td>0.06250</td><td>0.0625 </td><td>0.00000</td></tr>\n",
       "\t<tr><th scope=row>offer32</th><td>0.10   </td><td>0.06250</td><td>0.0000 </td><td>0.00000</td></tr>\n",
       "\t<tr><th scope=row>offer1</th><td>0.05   </td><td>0.25000</td><td>0.0625 </td><td>0.00000</td></tr>\n",
       "\t<tr><th scope=row>offer9</th><td>0.05   </td><td>0.28125</td><td>0.0000 </td><td>0.00000</td></tr>\n",
       "\t<tr><th scope=row>offer20</th><td>0.05   </td><td>0.15625</td><td>0.0000 </td><td>0.00000</td></tr>\n",
       "\t<tr><th scope=row>offer2</th><td>0.00   </td><td>0.12500</td><td>0.3750 </td><td>0.00000</td></tr>\n",
       "\t<tr><th scope=row>offer5</th><td>0.00   </td><td>0.12500</td><td>0.0000 </td><td>0.00000</td></tr>\n",
       "\t<tr><th scope=row>offer11</th><td>0.00   </td><td>0.40625</td><td>0.0000 </td><td>0.00000</td></tr>\n",
       "\t<tr><th scope=row>offer12</th><td>0.00   </td><td>0.09375</td><td>0.0625 </td><td>0.03125</td></tr>\n",
       "\t<tr><th scope=row>offer13</th><td>0.00   </td><td>0.00000</td><td>0.0000 </td><td>0.18750</td></tr>\n",
       "\t<tr><th scope=row>offer16</th><td>0.00   </td><td>0.12500</td><td>0.0625 </td><td>0.00000</td></tr>\n",
       "\t<tr><th scope=row>offer17</th><td>0.00   </td><td>0.00000</td><td>0.4375 </td><td>0.00000</td></tr>\n",
       "\t<tr><th scope=row>offer24</th><td>0.00   </td><td>0.00000</td><td>0.7500 </td><td>0.00000</td></tr>\n",
       "\t<tr><th scope=row>offer25</th><td>0.00   </td><td>0.18750</td><td>0.0000 </td><td>0.00000</td></tr>\n",
       "\t<tr><th scope=row>offer26</th><td>0.00   </td><td>0.09375</td><td>0.7500 </td><td>0.00000</td></tr>\n",
       "\t<tr><th scope=row>offer28</th><td>0.00   </td><td>0.15625</td><td>0.0000 </td><td>0.03125</td></tr>\n",
       "\t<tr><th scope=row>offer29</th><td>0.00   </td><td>0.03125</td><td>0.0000 </td><td>0.50000</td></tr>\n",
       "\t<tr><th scope=row>offer30</th><td>0.00   </td><td>0.18750</td><td>0.0000 </td><td>0.50000</td></tr>\n",
       "</tbody>\n",
       "</table>\n"
      ],
      "text/latex": [
       "\\begin{tabular}{r|llll}\n",
       "  & cluster1 & cluster2 & cluster3 & cluster4\\\\\n",
       "\\hline\n",
       "\toffer31 & 0.60    & 0.15625 & 0.0000  & 0.00000\\\\\n",
       "\toffer6 & 0.55    & 0.03125 & 0.0000  & 0.00000\\\\\n",
       "\toffer22 & 0.45    & 0.37500 & 0.0000  & 0.00000\\\\\n",
       "\toffer10 & 0.30    & 0.00000 & 0.0625  & 0.00000\\\\\n",
       "\toffer3 & 0.25    & 0.03125 & 0.0000  & 0.00000\\\\\n",
       "\toffer4 & 0.25    & 0.21875 & 0.0000  & 0.00000\\\\\n",
       "\toffer7 & 0.25    & 0.00000 & 0.0000  & 0.43750\\\\\n",
       "\toffer19 & 0.25    & 0.00000 & 0.0000  & 0.00000\\\\\n",
       "\toffer8 & 0.20    & 0.03125 & 0.0000  & 0.46875\\\\\n",
       "\toffer27 & 0.20    & 0.09375 & 0.0625  & 0.03125\\\\\n",
       "\toffer14 & 0.15    & 0.18750 & 0.0000  & 0.00000\\\\\n",
       "\toffer21 & 0.15    & 0.00000 & 0.0000  & 0.03125\\\\\n",
       "\toffer15 & 0.10    & 0.12500 & 0.0000  & 0.00000\\\\\n",
       "\toffer18 & 0.10    & 0.00000 & 0.0000  & 0.37500\\\\\n",
       "\toffer23 & 0.10    & 0.06250 & 0.0625  & 0.00000\\\\\n",
       "\toffer32 & 0.10    & 0.06250 & 0.0000  & 0.00000\\\\\n",
       "\toffer1 & 0.05    & 0.25000 & 0.0625  & 0.00000\\\\\n",
       "\toffer9 & 0.05    & 0.28125 & 0.0000  & 0.00000\\\\\n",
       "\toffer20 & 0.05    & 0.15625 & 0.0000  & 0.00000\\\\\n",
       "\toffer2 & 0.00    & 0.12500 & 0.3750  & 0.00000\\\\\n",
       "\toffer5 & 0.00    & 0.12500 & 0.0000  & 0.00000\\\\\n",
       "\toffer11 & 0.00    & 0.40625 & 0.0000  & 0.00000\\\\\n",
       "\toffer12 & 0.00    & 0.09375 & 0.0625  & 0.03125\\\\\n",
       "\toffer13 & 0.00    & 0.00000 & 0.0000  & 0.18750\\\\\n",
       "\toffer16 & 0.00    & 0.12500 & 0.0625  & 0.00000\\\\\n",
       "\toffer17 & 0.00    & 0.00000 & 0.4375  & 0.00000\\\\\n",
       "\toffer24 & 0.00    & 0.00000 & 0.7500  & 0.00000\\\\\n",
       "\toffer25 & 0.00    & 0.18750 & 0.0000  & 0.00000\\\\\n",
       "\toffer26 & 0.00    & 0.09375 & 0.7500  & 0.00000\\\\\n",
       "\toffer28 & 0.00    & 0.15625 & 0.0000  & 0.03125\\\\\n",
       "\toffer29 & 0.00    & 0.03125 & 0.0000  & 0.50000\\\\\n",
       "\toffer30 & 0.00    & 0.18750 & 0.0000  & 0.50000\\\\\n",
       "\\end{tabular}\n"
      ],
      "text/markdown": [
       "\n",
       "| <!--/--> | cluster1 | cluster2 | cluster3 | cluster4 | \n",
       "|---|---|---|---|---|---|---|---|---|---|---|---|---|---|---|---|---|---|---|---|---|---|---|---|---|---|---|---|---|---|---|---|\n",
       "| offer31 | 0.60    | 0.15625 | 0.0000  | 0.00000 | \n",
       "| offer6 | 0.55    | 0.03125 | 0.0000  | 0.00000 | \n",
       "| offer22 | 0.45    | 0.37500 | 0.0000  | 0.00000 | \n",
       "| offer10 | 0.30    | 0.00000 | 0.0625  | 0.00000 | \n",
       "| offer3 | 0.25    | 0.03125 | 0.0000  | 0.00000 | \n",
       "| offer4 | 0.25    | 0.21875 | 0.0000  | 0.00000 | \n",
       "| offer7 | 0.25    | 0.00000 | 0.0000  | 0.43750 | \n",
       "| offer19 | 0.25    | 0.00000 | 0.0000  | 0.00000 | \n",
       "| offer8 | 0.20    | 0.03125 | 0.0000  | 0.46875 | \n",
       "| offer27 | 0.20    | 0.09375 | 0.0625  | 0.03125 | \n",
       "| offer14 | 0.15    | 0.18750 | 0.0000  | 0.00000 | \n",
       "| offer21 | 0.15    | 0.00000 | 0.0000  | 0.03125 | \n",
       "| offer15 | 0.10    | 0.12500 | 0.0000  | 0.00000 | \n",
       "| offer18 | 0.10    | 0.00000 | 0.0000  | 0.37500 | \n",
       "| offer23 | 0.10    | 0.06250 | 0.0625  | 0.00000 | \n",
       "| offer32 | 0.10    | 0.06250 | 0.0000  | 0.00000 | \n",
       "| offer1 | 0.05    | 0.25000 | 0.0625  | 0.00000 | \n",
       "| offer9 | 0.05    | 0.28125 | 0.0000  | 0.00000 | \n",
       "| offer20 | 0.05    | 0.15625 | 0.0000  | 0.00000 | \n",
       "| offer2 | 0.00    | 0.12500 | 0.3750  | 0.00000 | \n",
       "| offer5 | 0.00    | 0.12500 | 0.0000  | 0.00000 | \n",
       "| offer11 | 0.00    | 0.40625 | 0.0000  | 0.00000 | \n",
       "| offer12 | 0.00    | 0.09375 | 0.0625  | 0.03125 | \n",
       "| offer13 | 0.00    | 0.00000 | 0.0000  | 0.18750 | \n",
       "| offer16 | 0.00    | 0.12500 | 0.0625  | 0.00000 | \n",
       "| offer17 | 0.00    | 0.00000 | 0.4375  | 0.00000 | \n",
       "| offer24 | 0.00    | 0.00000 | 0.7500  | 0.00000 | \n",
       "| offer25 | 0.00    | 0.18750 | 0.0000  | 0.00000 | \n",
       "| offer26 | 0.00    | 0.09375 | 0.7500  | 0.00000 | \n",
       "| offer28 | 0.00    | 0.15625 | 0.0000  | 0.03125 | \n",
       "| offer29 | 0.00    | 0.03125 | 0.0000  | 0.50000 | \n",
       "| offer30 | 0.00    | 0.18750 | 0.0000  | 0.50000 | \n",
       "\n",
       "\n"
      ],
      "text/plain": [
       "        cluster1 cluster2 cluster3 cluster4\n",
       "offer31 0.60     0.15625  0.0000   0.00000 \n",
       "offer6  0.55     0.03125  0.0000   0.00000 \n",
       "offer22 0.45     0.37500  0.0000   0.00000 \n",
       "offer10 0.30     0.00000  0.0625   0.00000 \n",
       "offer3  0.25     0.03125  0.0000   0.00000 \n",
       "offer4  0.25     0.21875  0.0000   0.00000 \n",
       "offer7  0.25     0.00000  0.0000   0.43750 \n",
       "offer19 0.25     0.00000  0.0000   0.00000 \n",
       "offer8  0.20     0.03125  0.0000   0.46875 \n",
       "offer27 0.20     0.09375  0.0625   0.03125 \n",
       "offer14 0.15     0.18750  0.0000   0.00000 \n",
       "offer21 0.15     0.00000  0.0000   0.03125 \n",
       "offer15 0.10     0.12500  0.0000   0.00000 \n",
       "offer18 0.10     0.00000  0.0000   0.37500 \n",
       "offer23 0.10     0.06250  0.0625   0.00000 \n",
       "offer32 0.10     0.06250  0.0000   0.00000 \n",
       "offer1  0.05     0.25000  0.0625   0.00000 \n",
       "offer9  0.05     0.28125  0.0000   0.00000 \n",
       "offer20 0.05     0.15625  0.0000   0.00000 \n",
       "offer2  0.00     0.12500  0.3750   0.00000 \n",
       "offer5  0.00     0.12500  0.0000   0.00000 \n",
       "offer11 0.00     0.40625  0.0000   0.00000 \n",
       "offer12 0.00     0.09375  0.0625   0.03125 \n",
       "offer13 0.00     0.00000  0.0000   0.18750 \n",
       "offer16 0.00     0.12500  0.0625   0.00000 \n",
       "offer17 0.00     0.00000  0.4375   0.00000 \n",
       "offer24 0.00     0.00000  0.7500   0.00000 \n",
       "offer25 0.00     0.18750  0.0000   0.00000 \n",
       "offer26 0.00     0.09375  0.7500   0.00000 \n",
       "offer28 0.00     0.15625  0.0000   0.03125 \n",
       "offer29 0.00     0.03125  0.0000   0.50000 \n",
       "offer30 0.00     0.18750  0.0000   0.50000 "
      ]
     },
     "metadata": {},
     "output_type": "display_data"
    }
   ],
   "source": [
    "# Display the feature dimensions of the cluster centroids\n",
    "df.centers <- data.frame(t(kmeans.out$centers))\n",
    "colnames(df.centers) <- paste0(\"cluster\", c(1:4))\n",
    "df.centers[order(-df.centers[1]), ]"
   ]
  },
  {
   "cell_type": "markdown",
   "metadata": {},
   "source": [
    "Cluster 1 exhibits preference for the following offers: 31, 6, 22, 10, 3, 4, 19, 27, 21, 23, and 32. It has the highest number of purchases of these offers. Let's look at the characteristics of the first 10 of these offers:"
   ]
  },
  {
   "cell_type": "code",
   "execution_count": 10,
   "metadata": {
    "collapsed": false
   },
   "outputs": [
    {
     "data": {
      "text/html": [
       "<table>\n",
       "<thead><tr><th></th><th scope=col>Offer..</th><th scope=col>Campaign</th><th scope=col>Varietal</th><th scope=col>Minimum.Qty..kg.</th><th scope=col>Discount....</th><th scope=col>Origin</th><th scope=col>Past.Peak</th></tr></thead>\n",
       "<tbody>\n",
       "\t<tr><th scope=row>31</th><td>31          </td><td>December    </td><td>Champagne   </td><td> 72         </td><td>89          </td><td>France      </td><td>FALSE       </td></tr>\n",
       "\t<tr><th scope=row>6</th><td> 6          </td><td>March       </td><td>Prosecco    </td><td>144         </td><td>86          </td><td>Chile       </td><td>FALSE       </td></tr>\n",
       "\t<tr><th scope=row>22</th><td>22          </td><td>August      </td><td>Champagne   </td><td> 72         </td><td>63          </td><td>France      </td><td>FALSE       </td></tr>\n",
       "\t<tr><th scope=row>10</th><td>10          </td><td>April       </td><td>Prosecco    </td><td> 72         </td><td>52          </td><td>California  </td><td>FALSE       </td></tr>\n",
       "\t<tr><th scope=row>3</th><td> 3          </td><td>February    </td><td>Espumante   </td><td>144         </td><td>32          </td><td>Oregon      </td><td> TRUE       </td></tr>\n",
       "\t<tr><th scope=row>4</th><td> 4          </td><td>February    </td><td>Champagne   </td><td> 72         </td><td>48          </td><td>France      </td><td> TRUE       </td></tr>\n",
       "\t<tr><th scope=row>18</th><td>18          </td><td>July        </td><td>Espumante   </td><td>  6         </td><td>50          </td><td>Oregon      </td><td>FALSE       </td></tr>\n",
       "\t<tr><th scope=row>27</th><td>27          </td><td>October     </td><td>Champagne   </td><td> 72         </td><td>88          </td><td>New Zealand </td><td>FALSE       </td></tr>\n",
       "\t<tr><th scope=row>21</th><td>21          </td><td>August      </td><td>Champagne   </td><td> 12         </td><td>50          </td><td>California  </td><td>FALSE       </td></tr>\n",
       "\t<tr><th scope=row>23</th><td>23          </td><td>September   </td><td>Chardonnay  </td><td>144         </td><td>39          </td><td>South Africa</td><td>FALSE       </td></tr>\n",
       "</tbody>\n",
       "</table>\n"
      ],
      "text/latex": [
       "\\begin{tabular}{r|lllllll}\n",
       "  & Offer.. & Campaign & Varietal & Minimum.Qty..kg. & Discount.... & Origin & Past.Peak\\\\\n",
       "\\hline\n",
       "\t31 & 31           & December     & Champagne    &  72          & 89           & France       & FALSE       \\\\\n",
       "\t6 &  6           & March        & Prosecco     & 144          & 86           & Chile        & FALSE       \\\\\n",
       "\t22 & 22           & August       & Champagne    &  72          & 63           & France       & FALSE       \\\\\n",
       "\t10 & 10           & April        & Prosecco     &  72          & 52           & California   & FALSE       \\\\\n",
       "\t3 &  3           & February     & Espumante    & 144          & 32           & Oregon       &  TRUE       \\\\\n",
       "\t4 &  4           & February     & Champagne    &  72          & 48           & France       &  TRUE       \\\\\n",
       "\t18 & 18           & July         & Espumante    &   6          & 50           & Oregon       & FALSE       \\\\\n",
       "\t27 & 27           & October      & Champagne    &  72          & 88           & New Zealand  & FALSE       \\\\\n",
       "\t21 & 21           & August       & Champagne    &  12          & 50           & California   & FALSE       \\\\\n",
       "\t23 & 23           & September    & Chardonnay   & 144          & 39           & South Africa & FALSE       \\\\\n",
       "\\end{tabular}\n"
      ],
      "text/markdown": [
       "\n",
       "| <!--/--> | Offer.. | Campaign | Varietal | Minimum.Qty..kg. | Discount.... | Origin | Past.Peak | \n",
       "|---|---|---|---|---|---|---|---|---|---|\n",
       "| 31 | 31           | December     | Champagne    |  72          | 89           | France       | FALSE        | \n",
       "| 6 |  6           | March        | Prosecco     | 144          | 86           | Chile        | FALSE        | \n",
       "| 22 | 22           | August       | Champagne    |  72          | 63           | France       | FALSE        | \n",
       "| 10 | 10           | April        | Prosecco     |  72          | 52           | California   | FALSE        | \n",
       "| 3 |  3           | February     | Espumante    | 144          | 32           | Oregon       |  TRUE        | \n",
       "| 4 |  4           | February     | Champagne    |  72          | 48           | France       |  TRUE        | \n",
       "| 18 | 18           | July         | Espumante    |   6          | 50           | Oregon       | FALSE        | \n",
       "| 27 | 27           | October      | Champagne    |  72          | 88           | New Zealand  | FALSE        | \n",
       "| 21 | 21           | August       | Champagne    |  12          | 50           | California   | FALSE        | \n",
       "| 23 | 23           | September    | Chardonnay   | 144          | 39           | South Africa | FALSE        | \n",
       "\n",
       "\n"
      ],
      "text/plain": [
       "   Offer.. Campaign  Varietal   Minimum.Qty..kg. Discount.... Origin      \n",
       "31 31      December  Champagne   72              89           France      \n",
       "6   6      March     Prosecco   144              86           Chile       \n",
       "22 22      August    Champagne   72              63           France      \n",
       "10 10      April     Prosecco    72              52           California  \n",
       "3   3      February  Espumante  144              32           Oregon      \n",
       "4   4      February  Champagne   72              48           France      \n",
       "18 18      July      Espumante    6              50           Oregon      \n",
       "27 27      October   Champagne   72              88           New Zealand \n",
       "21 21      August    Champagne   12              50           California  \n",
       "23 23      September Chardonnay 144              39           South Africa\n",
       "   Past.Peak\n",
       "31 FALSE    \n",
       "6  FALSE    \n",
       "22 FALSE    \n",
       "10 FALSE    \n",
       "3   TRUE    \n",
       "4   TRUE    \n",
       "18 FALSE    \n",
       "27 FALSE    \n",
       "21 FALSE    \n",
       "23 FALSE    "
      ]
     },
     "metadata": {},
     "output_type": "display_data"
    }
   ],
   "source": [
    "wine_desc <- wine_raw[ ,1:7]\n",
    "cluster1_top10 <- c(31, 6, 22, 10, 3, 4, 18, 27, 21, 23)\n",
    "wine_desc[cluster1_top10, ]"
   ]
  },
  {
   "cell_type": "markdown",
   "metadata": {},
   "source": [
    "Looking at the descriptions above, we see the following similarities among the top 10 deals purchased in Cluster 1:\n",
    "\n",
    "1.  9 out of the 10 wine varieties are sparkling wines\n",
    "2.  Demand for sparkling wine was (unsurprisingly) highest in December - 60% of the customers in cluster 1 purchased offer 31.  \n",
    "3.  8 out of 10 wines are not past their peak\n",
    "\n",
    "Let's see if we can observe other patterns in cluster 3 (since the order of clusters does not matter, we could have picked any of the other clusters to examine next):"
   ]
  },
  {
   "cell_type": "code",
   "execution_count": 11,
   "metadata": {
    "collapsed": false
   },
   "outputs": [
    {
     "data": {
      "text/html": [
       "<table>\n",
       "<thead><tr><th></th><th scope=col>cluster1</th><th scope=col>cluster2</th><th scope=col>cluster3</th><th scope=col>cluster4</th></tr></thead>\n",
       "<tbody>\n",
       "\t<tr><th scope=row>offer24</th><td>0.00   </td><td>0.00000</td><td>0.7500 </td><td>0.00000</td></tr>\n",
       "\t<tr><th scope=row>offer26</th><td>0.00   </td><td>0.09375</td><td>0.7500 </td><td>0.00000</td></tr>\n",
       "\t<tr><th scope=row>offer17</th><td>0.00   </td><td>0.00000</td><td>0.4375 </td><td>0.00000</td></tr>\n",
       "\t<tr><th scope=row>offer2</th><td>0.00   </td><td>0.12500</td><td>0.3750 </td><td>0.00000</td></tr>\n",
       "\t<tr><th scope=row>offer1</th><td>0.05   </td><td>0.25000</td><td>0.0625 </td><td>0.00000</td></tr>\n",
       "\t<tr><th scope=row>offer10</th><td>0.30   </td><td>0.00000</td><td>0.0625 </td><td>0.00000</td></tr>\n",
       "\t<tr><th scope=row>offer12</th><td>0.00   </td><td>0.09375</td><td>0.0625 </td><td>0.03125</td></tr>\n",
       "\t<tr><th scope=row>offer16</th><td>0.00   </td><td>0.12500</td><td>0.0625 </td><td>0.00000</td></tr>\n",
       "\t<tr><th scope=row>offer23</th><td>0.10   </td><td>0.06250</td><td>0.0625 </td><td>0.00000</td></tr>\n",
       "\t<tr><th scope=row>offer27</th><td>0.20   </td><td>0.09375</td><td>0.0625 </td><td>0.03125</td></tr>\n",
       "\t<tr><th scope=row>offer3</th><td>0.25   </td><td>0.03125</td><td>0.0000 </td><td>0.00000</td></tr>\n",
       "\t<tr><th scope=row>offer4</th><td>0.25   </td><td>0.21875</td><td>0.0000 </td><td>0.00000</td></tr>\n",
       "\t<tr><th scope=row>offer5</th><td>0.00   </td><td>0.12500</td><td>0.0000 </td><td>0.00000</td></tr>\n",
       "\t<tr><th scope=row>offer6</th><td>0.55   </td><td>0.03125</td><td>0.0000 </td><td>0.00000</td></tr>\n",
       "\t<tr><th scope=row>offer7</th><td>0.25   </td><td>0.00000</td><td>0.0000 </td><td>0.43750</td></tr>\n",
       "\t<tr><th scope=row>offer8</th><td>0.20   </td><td>0.03125</td><td>0.0000 </td><td>0.46875</td></tr>\n",
       "\t<tr><th scope=row>offer9</th><td>0.05   </td><td>0.28125</td><td>0.0000 </td><td>0.00000</td></tr>\n",
       "\t<tr><th scope=row>offer11</th><td>0.00   </td><td>0.40625</td><td>0.0000 </td><td>0.00000</td></tr>\n",
       "\t<tr><th scope=row>offer13</th><td>0.00   </td><td>0.00000</td><td>0.0000 </td><td>0.18750</td></tr>\n",
       "\t<tr><th scope=row>offer14</th><td>0.15   </td><td>0.18750</td><td>0.0000 </td><td>0.00000</td></tr>\n",
       "\t<tr><th scope=row>offer15</th><td>0.10   </td><td>0.12500</td><td>0.0000 </td><td>0.00000</td></tr>\n",
       "\t<tr><th scope=row>offer18</th><td>0.10   </td><td>0.00000</td><td>0.0000 </td><td>0.37500</td></tr>\n",
       "\t<tr><th scope=row>offer19</th><td>0.25   </td><td>0.00000</td><td>0.0000 </td><td>0.00000</td></tr>\n",
       "\t<tr><th scope=row>offer20</th><td>0.05   </td><td>0.15625</td><td>0.0000 </td><td>0.00000</td></tr>\n",
       "\t<tr><th scope=row>offer21</th><td>0.15   </td><td>0.00000</td><td>0.0000 </td><td>0.03125</td></tr>\n",
       "\t<tr><th scope=row>offer22</th><td>0.45   </td><td>0.37500</td><td>0.0000 </td><td>0.00000</td></tr>\n",
       "\t<tr><th scope=row>offer25</th><td>0.00   </td><td>0.18750</td><td>0.0000 </td><td>0.00000</td></tr>\n",
       "\t<tr><th scope=row>offer28</th><td>0.00   </td><td>0.15625</td><td>0.0000 </td><td>0.03125</td></tr>\n",
       "\t<tr><th scope=row>offer29</th><td>0.00   </td><td>0.03125</td><td>0.0000 </td><td>0.50000</td></tr>\n",
       "\t<tr><th scope=row>offer30</th><td>0.00   </td><td>0.18750</td><td>0.0000 </td><td>0.50000</td></tr>\n",
       "\t<tr><th scope=row>offer31</th><td>0.60   </td><td>0.15625</td><td>0.0000 </td><td>0.00000</td></tr>\n",
       "\t<tr><th scope=row>offer32</th><td>0.10   </td><td>0.06250</td><td>0.0000 </td><td>0.00000</td></tr>\n",
       "</tbody>\n",
       "</table>\n"
      ],
      "text/latex": [
       "\\begin{tabular}{r|llll}\n",
       "  & cluster1 & cluster2 & cluster3 & cluster4\\\\\n",
       "\\hline\n",
       "\toffer24 & 0.00    & 0.00000 & 0.7500  & 0.00000\\\\\n",
       "\toffer26 & 0.00    & 0.09375 & 0.7500  & 0.00000\\\\\n",
       "\toffer17 & 0.00    & 0.00000 & 0.4375  & 0.00000\\\\\n",
       "\toffer2 & 0.00    & 0.12500 & 0.3750  & 0.00000\\\\\n",
       "\toffer1 & 0.05    & 0.25000 & 0.0625  & 0.00000\\\\\n",
       "\toffer10 & 0.30    & 0.00000 & 0.0625  & 0.00000\\\\\n",
       "\toffer12 & 0.00    & 0.09375 & 0.0625  & 0.03125\\\\\n",
       "\toffer16 & 0.00    & 0.12500 & 0.0625  & 0.00000\\\\\n",
       "\toffer23 & 0.10    & 0.06250 & 0.0625  & 0.00000\\\\\n",
       "\toffer27 & 0.20    & 0.09375 & 0.0625  & 0.03125\\\\\n",
       "\toffer3 & 0.25    & 0.03125 & 0.0000  & 0.00000\\\\\n",
       "\toffer4 & 0.25    & 0.21875 & 0.0000  & 0.00000\\\\\n",
       "\toffer5 & 0.00    & 0.12500 & 0.0000  & 0.00000\\\\\n",
       "\toffer6 & 0.55    & 0.03125 & 0.0000  & 0.00000\\\\\n",
       "\toffer7 & 0.25    & 0.00000 & 0.0000  & 0.43750\\\\\n",
       "\toffer8 & 0.20    & 0.03125 & 0.0000  & 0.46875\\\\\n",
       "\toffer9 & 0.05    & 0.28125 & 0.0000  & 0.00000\\\\\n",
       "\toffer11 & 0.00    & 0.40625 & 0.0000  & 0.00000\\\\\n",
       "\toffer13 & 0.00    & 0.00000 & 0.0000  & 0.18750\\\\\n",
       "\toffer14 & 0.15    & 0.18750 & 0.0000  & 0.00000\\\\\n",
       "\toffer15 & 0.10    & 0.12500 & 0.0000  & 0.00000\\\\\n",
       "\toffer18 & 0.10    & 0.00000 & 0.0000  & 0.37500\\\\\n",
       "\toffer19 & 0.25    & 0.00000 & 0.0000  & 0.00000\\\\\n",
       "\toffer20 & 0.05    & 0.15625 & 0.0000  & 0.00000\\\\\n",
       "\toffer21 & 0.15    & 0.00000 & 0.0000  & 0.03125\\\\\n",
       "\toffer22 & 0.45    & 0.37500 & 0.0000  & 0.00000\\\\\n",
       "\toffer25 & 0.00    & 0.18750 & 0.0000  & 0.00000\\\\\n",
       "\toffer28 & 0.00    & 0.15625 & 0.0000  & 0.03125\\\\\n",
       "\toffer29 & 0.00    & 0.03125 & 0.0000  & 0.50000\\\\\n",
       "\toffer30 & 0.00    & 0.18750 & 0.0000  & 0.50000\\\\\n",
       "\toffer31 & 0.60    & 0.15625 & 0.0000  & 0.00000\\\\\n",
       "\toffer32 & 0.10    & 0.06250 & 0.0000  & 0.00000\\\\\n",
       "\\end{tabular}\n"
      ],
      "text/markdown": [
       "\n",
       "| <!--/--> | cluster1 | cluster2 | cluster3 | cluster4 | \n",
       "|---|---|---|---|---|---|---|---|---|---|---|---|---|---|---|---|---|---|---|---|---|---|---|---|---|---|---|---|---|---|---|---|\n",
       "| offer24 | 0.00    | 0.00000 | 0.7500  | 0.00000 | \n",
       "| offer26 | 0.00    | 0.09375 | 0.7500  | 0.00000 | \n",
       "| offer17 | 0.00    | 0.00000 | 0.4375  | 0.00000 | \n",
       "| offer2 | 0.00    | 0.12500 | 0.3750  | 0.00000 | \n",
       "| offer1 | 0.05    | 0.25000 | 0.0625  | 0.00000 | \n",
       "| offer10 | 0.30    | 0.00000 | 0.0625  | 0.00000 | \n",
       "| offer12 | 0.00    | 0.09375 | 0.0625  | 0.03125 | \n",
       "| offer16 | 0.00    | 0.12500 | 0.0625  | 0.00000 | \n",
       "| offer23 | 0.10    | 0.06250 | 0.0625  | 0.00000 | \n",
       "| offer27 | 0.20    | 0.09375 | 0.0625  | 0.03125 | \n",
       "| offer3 | 0.25    | 0.03125 | 0.0000  | 0.00000 | \n",
       "| offer4 | 0.25    | 0.21875 | 0.0000  | 0.00000 | \n",
       "| offer5 | 0.00    | 0.12500 | 0.0000  | 0.00000 | \n",
       "| offer6 | 0.55    | 0.03125 | 0.0000  | 0.00000 | \n",
       "| offer7 | 0.25    | 0.00000 | 0.0000  | 0.43750 | \n",
       "| offer8 | 0.20    | 0.03125 | 0.0000  | 0.46875 | \n",
       "| offer9 | 0.05    | 0.28125 | 0.0000  | 0.00000 | \n",
       "| offer11 | 0.00    | 0.40625 | 0.0000  | 0.00000 | \n",
       "| offer13 | 0.00    | 0.00000 | 0.0000  | 0.18750 | \n",
       "| offer14 | 0.15    | 0.18750 | 0.0000  | 0.00000 | \n",
       "| offer15 | 0.10    | 0.12500 | 0.0000  | 0.00000 | \n",
       "| offer18 | 0.10    | 0.00000 | 0.0000  | 0.37500 | \n",
       "| offer19 | 0.25    | 0.00000 | 0.0000  | 0.00000 | \n",
       "| offer20 | 0.05    | 0.15625 | 0.0000  | 0.00000 | \n",
       "| offer21 | 0.15    | 0.00000 | 0.0000  | 0.03125 | \n",
       "| offer22 | 0.45    | 0.37500 | 0.0000  | 0.00000 | \n",
       "| offer25 | 0.00    | 0.18750 | 0.0000  | 0.00000 | \n",
       "| offer28 | 0.00    | 0.15625 | 0.0000  | 0.03125 | \n",
       "| offer29 | 0.00    | 0.03125 | 0.0000  | 0.50000 | \n",
       "| offer30 | 0.00    | 0.18750 | 0.0000  | 0.50000 | \n",
       "| offer31 | 0.60    | 0.15625 | 0.0000  | 0.00000 | \n",
       "| offer32 | 0.10    | 0.06250 | 0.0000  | 0.00000 | \n",
       "\n",
       "\n"
      ],
      "text/plain": [
       "        cluster1 cluster2 cluster3 cluster4\n",
       "offer24 0.00     0.00000  0.7500   0.00000 \n",
       "offer26 0.00     0.09375  0.7500   0.00000 \n",
       "offer17 0.00     0.00000  0.4375   0.00000 \n",
       "offer2  0.00     0.12500  0.3750   0.00000 \n",
       "offer1  0.05     0.25000  0.0625   0.00000 \n",
       "offer10 0.30     0.00000  0.0625   0.00000 \n",
       "offer12 0.00     0.09375  0.0625   0.03125 \n",
       "offer16 0.00     0.12500  0.0625   0.00000 \n",
       "offer23 0.10     0.06250  0.0625   0.00000 \n",
       "offer27 0.20     0.09375  0.0625   0.03125 \n",
       "offer3  0.25     0.03125  0.0000   0.00000 \n",
       "offer4  0.25     0.21875  0.0000   0.00000 \n",
       "offer5  0.00     0.12500  0.0000   0.00000 \n",
       "offer6  0.55     0.03125  0.0000   0.00000 \n",
       "offer7  0.25     0.00000  0.0000   0.43750 \n",
       "offer8  0.20     0.03125  0.0000   0.46875 \n",
       "offer9  0.05     0.28125  0.0000   0.00000 \n",
       "offer11 0.00     0.40625  0.0000   0.00000 \n",
       "offer13 0.00     0.00000  0.0000   0.18750 \n",
       "offer14 0.15     0.18750  0.0000   0.00000 \n",
       "offer15 0.10     0.12500  0.0000   0.00000 \n",
       "offer18 0.10     0.00000  0.0000   0.37500 \n",
       "offer19 0.25     0.00000  0.0000   0.00000 \n",
       "offer20 0.05     0.15625  0.0000   0.00000 \n",
       "offer21 0.15     0.00000  0.0000   0.03125 \n",
       "offer22 0.45     0.37500  0.0000   0.00000 \n",
       "offer25 0.00     0.18750  0.0000   0.00000 \n",
       "offer28 0.00     0.15625  0.0000   0.03125 \n",
       "offer29 0.00     0.03125  0.0000   0.50000 \n",
       "offer30 0.00     0.18750  0.0000   0.50000 \n",
       "offer31 0.60     0.15625  0.0000   0.00000 \n",
       "offer32 0.10     0.06250  0.0000   0.00000 "
      ]
     },
     "metadata": {},
     "output_type": "display_data"
    }
   ],
   "source": [
    "df.centers[order(-df.centers[3]), ]"
   ]
  },
  {
   "cell_type": "markdown",
   "metadata": {},
   "source": [
    "We could write a function that selects the offers that have their highest mean within a cluster relative to the other clusters, but for now we will examine the above table visually. There are only 4 offers that dominated purchases in cluster 3:\n",
    "24, 26, 17, 2"
   ]
  },
  {
   "cell_type": "code",
   "execution_count": 12,
   "metadata": {
    "collapsed": false
   },
   "outputs": [
    {
     "data": {
      "text/html": [
       "<table>\n",
       "<thead><tr><th></th><th scope=col>Offer..</th><th scope=col>Campaign</th><th scope=col>Varietal</th><th scope=col>Minimum.Qty..kg.</th><th scope=col>Discount....</th><th scope=col>Origin</th><th scope=col>Past.Peak</th></tr></thead>\n",
       "<tbody>\n",
       "\t<tr><th scope=row>24</th><td>24        </td><td>September </td><td>Pinot Noir</td><td>  6       </td><td>34        </td><td>Italy     </td><td>FALSE     </td></tr>\n",
       "\t<tr><th scope=row>26</th><td>26        </td><td>October   </td><td>Pinot Noir</td><td>144       </td><td>83        </td><td>Australia </td><td>FALSE     </td></tr>\n",
       "\t<tr><th scope=row>17</th><td>17        </td><td>July      </td><td>Pinot Noir</td><td> 12       </td><td>47        </td><td>Germany   </td><td>FALSE     </td></tr>\n",
       "\t<tr><th scope=row>2</th><td> 2        </td><td>January   </td><td>Pinot Noir</td><td> 72       </td><td>17        </td><td>France    </td><td>FALSE     </td></tr>\n",
       "</tbody>\n",
       "</table>\n"
      ],
      "text/latex": [
       "\\begin{tabular}{r|lllllll}\n",
       "  & Offer.. & Campaign & Varietal & Minimum.Qty..kg. & Discount.... & Origin & Past.Peak\\\\\n",
       "\\hline\n",
       "\t24 & 24         & September  & Pinot Noir &   6        & 34         & Italy      & FALSE     \\\\\n",
       "\t26 & 26         & October    & Pinot Noir & 144        & 83         & Australia  & FALSE     \\\\\n",
       "\t17 & 17         & July       & Pinot Noir &  12        & 47         & Germany    & FALSE     \\\\\n",
       "\t2 &  2         & January    & Pinot Noir &  72        & 17         & France     & FALSE     \\\\\n",
       "\\end{tabular}\n"
      ],
      "text/markdown": [
       "\n",
       "| <!--/--> | Offer.. | Campaign | Varietal | Minimum.Qty..kg. | Discount.... | Origin | Past.Peak | \n",
       "|---|---|---|---|\n",
       "| 24 | 24         | September  | Pinot Noir |   6        | 34         | Italy      | FALSE      | \n",
       "| 26 | 26         | October    | Pinot Noir | 144        | 83         | Australia  | FALSE      | \n",
       "| 17 | 17         | July       | Pinot Noir |  12        | 47         | Germany    | FALSE      | \n",
       "| 2 |  2         | January    | Pinot Noir |  72        | 17         | France     | FALSE      | \n",
       "\n",
       "\n"
      ],
      "text/plain": [
       "   Offer.. Campaign  Varietal   Minimum.Qty..kg. Discount.... Origin   \n",
       "24 24      September Pinot Noir   6              34           Italy    \n",
       "26 26      October   Pinot Noir 144              83           Australia\n",
       "17 17      July      Pinot Noir  12              47           Germany  \n",
       "2   2      January   Pinot Noir  72              17           France   \n",
       "   Past.Peak\n",
       "24 FALSE    \n",
       "26 FALSE    \n",
       "17 FALSE    \n",
       "2  FALSE    "
      ]
     },
     "metadata": {},
     "output_type": "display_data"
    }
   ],
   "source": [
    "cluster3_top10 <- c(24, 26, 17, 2)\n",
    "wine_desc[cluster3_top10, ]"
   ]
  },
  {
   "cell_type": "markdown",
   "metadata": {},
   "source": [
    "Cluster 3 seems to be for the Pinot Noir lovers! But before we conclude that, let's confirm that Pinot Noir is not overly represented in the sample:"
   ]
  },
  {
   "cell_type": "code",
   "execution_count": 13,
   "metadata": {
    "collapsed": false
   },
   "outputs": [
    {
     "data": {
      "text/html": [
       "7"
      ],
      "text/latex": [
       "7"
      ],
      "text/markdown": [
       "7"
      ],
      "text/plain": [
       "[1] 7"
      ]
     },
     "metadata": {},
     "output_type": "display_data"
    }
   ],
   "source": [
    "length(wine_desc[wine_desc$Varietal==\"Pinot Noir\", ])"
   ]
  },
  {
   "cell_type": "markdown",
   "metadata": {},
   "source": [
    "Since only seven of the offers featured Pinot Noir and cluster 3 captured four of these offers, we can be more confident that this cluster captures customers with a strong preference for Pinot Noir. \n",
    "\n",
    "Next we will examine clusters 2 and 4:"
   ]
  },
  {
   "cell_type": "code",
   "execution_count": 14,
   "metadata": {
    "collapsed": false
   },
   "outputs": [
    {
     "data": {
      "text/html": [
       "<table>\n",
       "<thead><tr><th></th><th scope=col>cluster1</th><th scope=col>cluster2</th><th scope=col>cluster3</th><th scope=col>cluster4</th></tr></thead>\n",
       "<tbody>\n",
       "\t<tr><th scope=row>offer11</th><td>0.00   </td><td>0.40625</td><td>0.0000 </td><td>0.00000</td></tr>\n",
       "\t<tr><th scope=row>offer22</th><td>0.45   </td><td>0.37500</td><td>0.0000 </td><td>0.00000</td></tr>\n",
       "\t<tr><th scope=row>offer9</th><td>0.05   </td><td>0.28125</td><td>0.0000 </td><td>0.00000</td></tr>\n",
       "\t<tr><th scope=row>offer1</th><td>0.05   </td><td>0.25000</td><td>0.0625 </td><td>0.00000</td></tr>\n",
       "\t<tr><th scope=row>offer4</th><td>0.25   </td><td>0.21875</td><td>0.0000 </td><td>0.00000</td></tr>\n",
       "\t<tr><th scope=row>offer14</th><td>0.15   </td><td>0.18750</td><td>0.0000 </td><td>0.00000</td></tr>\n",
       "\t<tr><th scope=row>offer25</th><td>0.00   </td><td>0.18750</td><td>0.0000 </td><td>0.00000</td></tr>\n",
       "\t<tr><th scope=row>offer30</th><td>0.00   </td><td>0.18750</td><td>0.0000 </td><td>0.50000</td></tr>\n",
       "\t<tr><th scope=row>offer20</th><td>0.05   </td><td>0.15625</td><td>0.0000 </td><td>0.00000</td></tr>\n",
       "\t<tr><th scope=row>offer28</th><td>0.00   </td><td>0.15625</td><td>0.0000 </td><td>0.03125</td></tr>\n",
       "\t<tr><th scope=row>offer31</th><td>0.60   </td><td>0.15625</td><td>0.0000 </td><td>0.00000</td></tr>\n",
       "\t<tr><th scope=row>offer2</th><td>0.00   </td><td>0.12500</td><td>0.3750 </td><td>0.00000</td></tr>\n",
       "\t<tr><th scope=row>offer5</th><td>0.00   </td><td>0.12500</td><td>0.0000 </td><td>0.00000</td></tr>\n",
       "\t<tr><th scope=row>offer15</th><td>0.10   </td><td>0.12500</td><td>0.0000 </td><td>0.00000</td></tr>\n",
       "\t<tr><th scope=row>offer16</th><td>0.00   </td><td>0.12500</td><td>0.0625 </td><td>0.00000</td></tr>\n",
       "\t<tr><th scope=row>offer12</th><td>0.00   </td><td>0.09375</td><td>0.0625 </td><td>0.03125</td></tr>\n",
       "\t<tr><th scope=row>offer26</th><td>0.00   </td><td>0.09375</td><td>0.7500 </td><td>0.00000</td></tr>\n",
       "\t<tr><th scope=row>offer27</th><td>0.20   </td><td>0.09375</td><td>0.0625 </td><td>0.03125</td></tr>\n",
       "\t<tr><th scope=row>offer23</th><td>0.10   </td><td>0.06250</td><td>0.0625 </td><td>0.00000</td></tr>\n",
       "\t<tr><th scope=row>offer32</th><td>0.10   </td><td>0.06250</td><td>0.0000 </td><td>0.00000</td></tr>\n",
       "\t<tr><th scope=row>offer3</th><td>0.25   </td><td>0.03125</td><td>0.0000 </td><td>0.00000</td></tr>\n",
       "\t<tr><th scope=row>offer6</th><td>0.55   </td><td>0.03125</td><td>0.0000 </td><td>0.00000</td></tr>\n",
       "\t<tr><th scope=row>offer8</th><td>0.20   </td><td>0.03125</td><td>0.0000 </td><td>0.46875</td></tr>\n",
       "\t<tr><th scope=row>offer29</th><td>0.00   </td><td>0.03125</td><td>0.0000 </td><td>0.50000</td></tr>\n",
       "\t<tr><th scope=row>offer7</th><td>0.25   </td><td>0.00000</td><td>0.0000 </td><td>0.43750</td></tr>\n",
       "\t<tr><th scope=row>offer10</th><td>0.30   </td><td>0.00000</td><td>0.0625 </td><td>0.00000</td></tr>\n",
       "\t<tr><th scope=row>offer13</th><td>0.00   </td><td>0.00000</td><td>0.0000 </td><td>0.18750</td></tr>\n",
       "\t<tr><th scope=row>offer17</th><td>0.00   </td><td>0.00000</td><td>0.4375 </td><td>0.00000</td></tr>\n",
       "\t<tr><th scope=row>offer18</th><td>0.10   </td><td>0.00000</td><td>0.0000 </td><td>0.37500</td></tr>\n",
       "\t<tr><th scope=row>offer19</th><td>0.25   </td><td>0.00000</td><td>0.0000 </td><td>0.00000</td></tr>\n",
       "\t<tr><th scope=row>offer21</th><td>0.15   </td><td>0.00000</td><td>0.0000 </td><td>0.03125</td></tr>\n",
       "\t<tr><th scope=row>offer24</th><td>0.00   </td><td>0.00000</td><td>0.7500 </td><td>0.00000</td></tr>\n",
       "</tbody>\n",
       "</table>\n"
      ],
      "text/latex": [
       "\\begin{tabular}{r|llll}\n",
       "  & cluster1 & cluster2 & cluster3 & cluster4\\\\\n",
       "\\hline\n",
       "\toffer11 & 0.00    & 0.40625 & 0.0000  & 0.00000\\\\\n",
       "\toffer22 & 0.45    & 0.37500 & 0.0000  & 0.00000\\\\\n",
       "\toffer9 & 0.05    & 0.28125 & 0.0000  & 0.00000\\\\\n",
       "\toffer1 & 0.05    & 0.25000 & 0.0625  & 0.00000\\\\\n",
       "\toffer4 & 0.25    & 0.21875 & 0.0000  & 0.00000\\\\\n",
       "\toffer14 & 0.15    & 0.18750 & 0.0000  & 0.00000\\\\\n",
       "\toffer25 & 0.00    & 0.18750 & 0.0000  & 0.00000\\\\\n",
       "\toffer30 & 0.00    & 0.18750 & 0.0000  & 0.50000\\\\\n",
       "\toffer20 & 0.05    & 0.15625 & 0.0000  & 0.00000\\\\\n",
       "\toffer28 & 0.00    & 0.15625 & 0.0000  & 0.03125\\\\\n",
       "\toffer31 & 0.60    & 0.15625 & 0.0000  & 0.00000\\\\\n",
       "\toffer2 & 0.00    & 0.12500 & 0.3750  & 0.00000\\\\\n",
       "\toffer5 & 0.00    & 0.12500 & 0.0000  & 0.00000\\\\\n",
       "\toffer15 & 0.10    & 0.12500 & 0.0000  & 0.00000\\\\\n",
       "\toffer16 & 0.00    & 0.12500 & 0.0625  & 0.00000\\\\\n",
       "\toffer12 & 0.00    & 0.09375 & 0.0625  & 0.03125\\\\\n",
       "\toffer26 & 0.00    & 0.09375 & 0.7500  & 0.00000\\\\\n",
       "\toffer27 & 0.20    & 0.09375 & 0.0625  & 0.03125\\\\\n",
       "\toffer23 & 0.10    & 0.06250 & 0.0625  & 0.00000\\\\\n",
       "\toffer32 & 0.10    & 0.06250 & 0.0000  & 0.00000\\\\\n",
       "\toffer3 & 0.25    & 0.03125 & 0.0000  & 0.00000\\\\\n",
       "\toffer6 & 0.55    & 0.03125 & 0.0000  & 0.00000\\\\\n",
       "\toffer8 & 0.20    & 0.03125 & 0.0000  & 0.46875\\\\\n",
       "\toffer29 & 0.00    & 0.03125 & 0.0000  & 0.50000\\\\\n",
       "\toffer7 & 0.25    & 0.00000 & 0.0000  & 0.43750\\\\\n",
       "\toffer10 & 0.30    & 0.00000 & 0.0625  & 0.00000\\\\\n",
       "\toffer13 & 0.00    & 0.00000 & 0.0000  & 0.18750\\\\\n",
       "\toffer17 & 0.00    & 0.00000 & 0.4375  & 0.00000\\\\\n",
       "\toffer18 & 0.10    & 0.00000 & 0.0000  & 0.37500\\\\\n",
       "\toffer19 & 0.25    & 0.00000 & 0.0000  & 0.00000\\\\\n",
       "\toffer21 & 0.15    & 0.00000 & 0.0000  & 0.03125\\\\\n",
       "\toffer24 & 0.00    & 0.00000 & 0.7500  & 0.00000\\\\\n",
       "\\end{tabular}\n"
      ],
      "text/markdown": [
       "\n",
       "| <!--/--> | cluster1 | cluster2 | cluster3 | cluster4 | \n",
       "|---|---|---|---|---|---|---|---|---|---|---|---|---|---|---|---|---|---|---|---|---|---|---|---|---|---|---|---|---|---|---|---|\n",
       "| offer11 | 0.00    | 0.40625 | 0.0000  | 0.00000 | \n",
       "| offer22 | 0.45    | 0.37500 | 0.0000  | 0.00000 | \n",
       "| offer9 | 0.05    | 0.28125 | 0.0000  | 0.00000 | \n",
       "| offer1 | 0.05    | 0.25000 | 0.0625  | 0.00000 | \n",
       "| offer4 | 0.25    | 0.21875 | 0.0000  | 0.00000 | \n",
       "| offer14 | 0.15    | 0.18750 | 0.0000  | 0.00000 | \n",
       "| offer25 | 0.00    | 0.18750 | 0.0000  | 0.00000 | \n",
       "| offer30 | 0.00    | 0.18750 | 0.0000  | 0.50000 | \n",
       "| offer20 | 0.05    | 0.15625 | 0.0000  | 0.00000 | \n",
       "| offer28 | 0.00    | 0.15625 | 0.0000  | 0.03125 | \n",
       "| offer31 | 0.60    | 0.15625 | 0.0000  | 0.00000 | \n",
       "| offer2 | 0.00    | 0.12500 | 0.3750  | 0.00000 | \n",
       "| offer5 | 0.00    | 0.12500 | 0.0000  | 0.00000 | \n",
       "| offer15 | 0.10    | 0.12500 | 0.0000  | 0.00000 | \n",
       "| offer16 | 0.00    | 0.12500 | 0.0625  | 0.00000 | \n",
       "| offer12 | 0.00    | 0.09375 | 0.0625  | 0.03125 | \n",
       "| offer26 | 0.00    | 0.09375 | 0.7500  | 0.00000 | \n",
       "| offer27 | 0.20    | 0.09375 | 0.0625  | 0.03125 | \n",
       "| offer23 | 0.10    | 0.06250 | 0.0625  | 0.00000 | \n",
       "| offer32 | 0.10    | 0.06250 | 0.0000  | 0.00000 | \n",
       "| offer3 | 0.25    | 0.03125 | 0.0000  | 0.00000 | \n",
       "| offer6 | 0.55    | 0.03125 | 0.0000  | 0.00000 | \n",
       "| offer8 | 0.20    | 0.03125 | 0.0000  | 0.46875 | \n",
       "| offer29 | 0.00    | 0.03125 | 0.0000  | 0.50000 | \n",
       "| offer7 | 0.25    | 0.00000 | 0.0000  | 0.43750 | \n",
       "| offer10 | 0.30    | 0.00000 | 0.0625  | 0.00000 | \n",
       "| offer13 | 0.00    | 0.00000 | 0.0000  | 0.18750 | \n",
       "| offer17 | 0.00    | 0.00000 | 0.4375  | 0.00000 | \n",
       "| offer18 | 0.10    | 0.00000 | 0.0000  | 0.37500 | \n",
       "| offer19 | 0.25    | 0.00000 | 0.0000  | 0.00000 | \n",
       "| offer21 | 0.15    | 0.00000 | 0.0000  | 0.03125 | \n",
       "| offer24 | 0.00    | 0.00000 | 0.7500  | 0.00000 | \n",
       "\n",
       "\n"
      ],
      "text/plain": [
       "        cluster1 cluster2 cluster3 cluster4\n",
       "offer11 0.00     0.40625  0.0000   0.00000 \n",
       "offer22 0.45     0.37500  0.0000   0.00000 \n",
       "offer9  0.05     0.28125  0.0000   0.00000 \n",
       "offer1  0.05     0.25000  0.0625   0.00000 \n",
       "offer4  0.25     0.21875  0.0000   0.00000 \n",
       "offer14 0.15     0.18750  0.0000   0.00000 \n",
       "offer25 0.00     0.18750  0.0000   0.00000 \n",
       "offer30 0.00     0.18750  0.0000   0.50000 \n",
       "offer20 0.05     0.15625  0.0000   0.00000 \n",
       "offer28 0.00     0.15625  0.0000   0.03125 \n",
       "offer31 0.60     0.15625  0.0000   0.00000 \n",
       "offer2  0.00     0.12500  0.3750   0.00000 \n",
       "offer5  0.00     0.12500  0.0000   0.00000 \n",
       "offer15 0.10     0.12500  0.0000   0.00000 \n",
       "offer16 0.00     0.12500  0.0625   0.00000 \n",
       "offer12 0.00     0.09375  0.0625   0.03125 \n",
       "offer26 0.00     0.09375  0.7500   0.00000 \n",
       "offer27 0.20     0.09375  0.0625   0.03125 \n",
       "offer23 0.10     0.06250  0.0625   0.00000 \n",
       "offer32 0.10     0.06250  0.0000   0.00000 \n",
       "offer3  0.25     0.03125  0.0000   0.00000 \n",
       "offer6  0.55     0.03125  0.0000   0.00000 \n",
       "offer8  0.20     0.03125  0.0000   0.46875 \n",
       "offer29 0.00     0.03125  0.0000   0.50000 \n",
       "offer7  0.25     0.00000  0.0000   0.43750 \n",
       "offer10 0.30     0.00000  0.0625   0.00000 \n",
       "offer13 0.00     0.00000  0.0000   0.18750 \n",
       "offer17 0.00     0.00000  0.4375   0.00000 \n",
       "offer18 0.10     0.00000  0.0000   0.37500 \n",
       "offer19 0.25     0.00000  0.0000   0.00000 \n",
       "offer21 0.15     0.00000  0.0000   0.03125 \n",
       "offer24 0.00     0.00000  0.7500   0.00000 "
      ]
     },
     "metadata": {},
     "output_type": "display_data"
    }
   ],
   "source": [
    "df.centers[order(-df.centers[2]), ]"
   ]
  },
  {
   "cell_type": "code",
   "execution_count": 15,
   "metadata": {
    "collapsed": false
   },
   "outputs": [
    {
     "data": {
      "text/html": [
       "<table>\n",
       "<thead><tr><th></th><th scope=col>Offer..</th><th scope=col>Campaign</th><th scope=col>Varietal</th><th scope=col>Minimum.Qty..kg.</th><th scope=col>Discount....</th><th scope=col>Origin</th><th scope=col>Past.Peak</th></tr></thead>\n",
       "<tbody>\n",
       "\t<tr><th scope=row>11</th><td>11                </td><td>May               </td><td>Champagne         </td><td> 72               </td><td>85                </td><td>France            </td><td>FALSE             </td></tr>\n",
       "\t<tr><th scope=row>9</th><td> 9                </td><td>April             </td><td>Chardonnay        </td><td>144               </td><td>57                </td><td>Chile             </td><td>FALSE             </td></tr>\n",
       "\t<tr><th scope=row>1</th><td> 1                </td><td>January           </td><td>Malbec            </td><td> 72               </td><td>56                </td><td>France            </td><td>FALSE             </td></tr>\n",
       "\t<tr><th scope=row>14</th><td>14                </td><td>June              </td><td>Merlot            </td><td> 72               </td><td>64                </td><td>Chile             </td><td>FALSE             </td></tr>\n",
       "\t<tr><th scope=row>25</th><td>25                </td><td>October           </td><td>Cabernet Sauvignon</td><td> 72               </td><td>59                </td><td>Oregon            </td><td> TRUE             </td></tr>\n",
       "\t<tr><th scope=row>30</th><td>30                </td><td>December          </td><td>Malbec            </td><td>  6               </td><td>54                </td><td>France            </td><td>FALSE             </td></tr>\n",
       "\t<tr><th scope=row>20</th><td>20                </td><td>August            </td><td>Cabernet Sauvignon</td><td> 72               </td><td>82                </td><td>Italy             </td><td>FALSE             </td></tr>\n",
       "\t<tr><th scope=row>28</th><td>28                </td><td>November          </td><td>Cabernet Sauvignon</td><td> 12               </td><td>56                </td><td>France            </td><td> TRUE             </td></tr>\n",
       "\t<tr><th scope=row>5</th><td> 5                </td><td>February          </td><td>Cabernet Sauvignon</td><td>144               </td><td>44                </td><td>New Zealand       </td><td> TRUE             </td></tr>\n",
       "\t<tr><th scope=row>15</th><td>15                </td><td>June              </td><td>Cabernet Sauvignon</td><td>144               </td><td>19                </td><td>Italy             </td><td>FALSE             </td></tr>\n",
       "</tbody>\n",
       "</table>\n"
      ],
      "text/latex": [
       "\\begin{tabular}{r|lllllll}\n",
       "  & Offer.. & Campaign & Varietal & Minimum.Qty..kg. & Discount.... & Origin & Past.Peak\\\\\n",
       "\\hline\n",
       "\t11 & 11                 & May                & Champagne          &  72                & 85                 & France             & FALSE             \\\\\n",
       "\t9 &  9                 & April              & Chardonnay         & 144                & 57                 & Chile              & FALSE             \\\\\n",
       "\t1 &  1                 & January            & Malbec             &  72                & 56                 & France             & FALSE             \\\\\n",
       "\t14 & 14                 & June               & Merlot             &  72                & 64                 & Chile              & FALSE             \\\\\n",
       "\t25 & 25                 & October            & Cabernet Sauvignon &  72                & 59                 & Oregon             &  TRUE             \\\\\n",
       "\t30 & 30                 & December           & Malbec             &   6                & 54                 & France             & FALSE             \\\\\n",
       "\t20 & 20                 & August             & Cabernet Sauvignon &  72                & 82                 & Italy              & FALSE             \\\\\n",
       "\t28 & 28                 & November           & Cabernet Sauvignon &  12                & 56                 & France             &  TRUE             \\\\\n",
       "\t5 &  5                 & February           & Cabernet Sauvignon & 144                & 44                 & New Zealand        &  TRUE             \\\\\n",
       "\t15 & 15                 & June               & Cabernet Sauvignon & 144                & 19                 & Italy              & FALSE             \\\\\n",
       "\\end{tabular}\n"
      ],
      "text/markdown": [
       "\n",
       "| <!--/--> | Offer.. | Campaign | Varietal | Minimum.Qty..kg. | Discount.... | Origin | Past.Peak | \n",
       "|---|---|---|---|---|---|---|---|---|---|\n",
       "| 11 | 11                 | May                | Champagne          |  72                | 85                 | France             | FALSE              | \n",
       "| 9 |  9                 | April              | Chardonnay         | 144                | 57                 | Chile              | FALSE              | \n",
       "| 1 |  1                 | January            | Malbec             |  72                | 56                 | France             | FALSE              | \n",
       "| 14 | 14                 | June               | Merlot             |  72                | 64                 | Chile              | FALSE              | \n",
       "| 25 | 25                 | October            | Cabernet Sauvignon |  72                | 59                 | Oregon             |  TRUE              | \n",
       "| 30 | 30                 | December           | Malbec             |   6                | 54                 | France             | FALSE              | \n",
       "| 20 | 20                 | August             | Cabernet Sauvignon |  72                | 82                 | Italy              | FALSE              | \n",
       "| 28 | 28                 | November           | Cabernet Sauvignon |  12                | 56                 | France             |  TRUE              | \n",
       "| 5 |  5                 | February           | Cabernet Sauvignon | 144                | 44                 | New Zealand        |  TRUE              | \n",
       "| 15 | 15                 | June               | Cabernet Sauvignon | 144                | 19                 | Italy              | FALSE              | \n",
       "\n",
       "\n"
      ],
      "text/plain": [
       "   Offer.. Campaign Varietal           Minimum.Qty..kg. Discount....\n",
       "11 11      May      Champagne           72              85          \n",
       "9   9      April    Chardonnay         144              57          \n",
       "1   1      January  Malbec              72              56          \n",
       "14 14      June     Merlot              72              64          \n",
       "25 25      October  Cabernet Sauvignon  72              59          \n",
       "30 30      December Malbec               6              54          \n",
       "20 20      August   Cabernet Sauvignon  72              82          \n",
       "28 28      November Cabernet Sauvignon  12              56          \n",
       "5   5      February Cabernet Sauvignon 144              44          \n",
       "15 15      June     Cabernet Sauvignon 144              19          \n",
       "   Origin      Past.Peak\n",
       "11 France      FALSE    \n",
       "9  Chile       FALSE    \n",
       "1  France      FALSE    \n",
       "14 Chile       FALSE    \n",
       "25 Oregon       TRUE    \n",
       "30 France      FALSE    \n",
       "20 Italy       FALSE    \n",
       "28 France       TRUE    \n",
       "5  New Zealand  TRUE    \n",
       "15 Italy       FALSE    "
      ]
     },
     "metadata": {},
     "output_type": "display_data"
    }
   ],
   "source": [
    "cluster2_top10 <- c(11,9,1,14,25,30,20, 28, 5, 15)\n",
    "wine_desc[cluster2_top10, ]"
   ]
  },
  {
   "cell_type": "markdown",
   "metadata": {},
   "source": [
    "Cluster 2 is hard to interpret by just looking at the qualitative features. Let's look at the average characteristics of the qunatitative features to gain more insight. "
   ]
  },
  {
   "cell_type": "code",
   "execution_count": 16,
   "metadata": {
    "collapsed": false
   },
   "outputs": [
    {
     "data": {
      "text/plain": [
       "    Offer..        Campaign           Varietal         Minimum.Qty..kg.\n",
       " Min.   : 1.00   Length:32          Length:32          Min.   :  6.00  \n",
       " 1st Qu.: 8.75   Class :character   Class :character   1st Qu.: 12.00  \n",
       " Median :16.50   Mode  :character   Mode  :character   Median : 72.00  \n",
       " Mean   :16.50                                         Mean   : 65.81  \n",
       " 3rd Qu.:24.25                                         3rd Qu.: 72.00  \n",
       " Max.   :32.00                                         Max.   :144.00  \n",
       "  Discount....      Origin          Past.Peak      \n",
       " Min.   :17.00   Length:32          Mode :logical  \n",
       " 1st Qu.:44.75   Class :character   FALSE:25       \n",
       " Median :55.00   Mode  :character   TRUE :7        \n",
       " Mean   :57.84                      NA's :0        \n",
       " 3rd Qu.:82.25                                     \n",
       " Max.   :89.00                                     "
      ]
     },
     "metadata": {},
     "output_type": "display_data"
    }
   ],
   "source": [
    "summary(wine_desc)"
   ]
  },
  {
   "cell_type": "markdown",
   "metadata": {},
   "source": [
    "It looks like cluster 2 has identified customers who prefer purchasing high volumes at steeper discounts - 8 of the 10 offers require minimum purchased quantity in the upper quartile (72 and above) and 7 of the 10 offers offer discounts of at least 55, which is the median discount for all offers. \n",
    "\n",
    "Next, we look at cluster 4:"
   ]
  },
  {
   "cell_type": "code",
   "execution_count": 17,
   "metadata": {
    "collapsed": false
   },
   "outputs": [
    {
     "data": {
      "text/html": [
       "<table>\n",
       "<thead><tr><th></th><th scope=col>cluster1</th><th scope=col>cluster2</th><th scope=col>cluster3</th><th scope=col>cluster4</th></tr></thead>\n",
       "<tbody>\n",
       "\t<tr><th scope=row>offer29</th><td>0.00   </td><td>0.03125</td><td>0.0000 </td><td>0.50000</td></tr>\n",
       "\t<tr><th scope=row>offer30</th><td>0.00   </td><td>0.18750</td><td>0.0000 </td><td>0.50000</td></tr>\n",
       "\t<tr><th scope=row>offer8</th><td>0.20   </td><td>0.03125</td><td>0.0000 </td><td>0.46875</td></tr>\n",
       "\t<tr><th scope=row>offer7</th><td>0.25   </td><td>0.00000</td><td>0.0000 </td><td>0.43750</td></tr>\n",
       "\t<tr><th scope=row>offer18</th><td>0.10   </td><td>0.00000</td><td>0.0000 </td><td>0.37500</td></tr>\n",
       "\t<tr><th scope=row>offer13</th><td>0.00   </td><td>0.00000</td><td>0.0000 </td><td>0.18750</td></tr>\n",
       "\t<tr><th scope=row>offer12</th><td>0.00   </td><td>0.09375</td><td>0.0625 </td><td>0.03125</td></tr>\n",
       "\t<tr><th scope=row>offer21</th><td>0.15   </td><td>0.00000</td><td>0.0000 </td><td>0.03125</td></tr>\n",
       "\t<tr><th scope=row>offer27</th><td>0.20   </td><td>0.09375</td><td>0.0625 </td><td>0.03125</td></tr>\n",
       "\t<tr><th scope=row>offer28</th><td>0.00   </td><td>0.15625</td><td>0.0000 </td><td>0.03125</td></tr>\n",
       "\t<tr><th scope=row>offer1</th><td>0.05   </td><td>0.25000</td><td>0.0625 </td><td>0.00000</td></tr>\n",
       "\t<tr><th scope=row>offer2</th><td>0.00   </td><td>0.12500</td><td>0.3750 </td><td>0.00000</td></tr>\n",
       "\t<tr><th scope=row>offer3</th><td>0.25   </td><td>0.03125</td><td>0.0000 </td><td>0.00000</td></tr>\n",
       "\t<tr><th scope=row>offer4</th><td>0.25   </td><td>0.21875</td><td>0.0000 </td><td>0.00000</td></tr>\n",
       "\t<tr><th scope=row>offer5</th><td>0.00   </td><td>0.12500</td><td>0.0000 </td><td>0.00000</td></tr>\n",
       "\t<tr><th scope=row>offer6</th><td>0.55   </td><td>0.03125</td><td>0.0000 </td><td>0.00000</td></tr>\n",
       "\t<tr><th scope=row>offer9</th><td>0.05   </td><td>0.28125</td><td>0.0000 </td><td>0.00000</td></tr>\n",
       "\t<tr><th scope=row>offer10</th><td>0.30   </td><td>0.00000</td><td>0.0625 </td><td>0.00000</td></tr>\n",
       "\t<tr><th scope=row>offer11</th><td>0.00   </td><td>0.40625</td><td>0.0000 </td><td>0.00000</td></tr>\n",
       "\t<tr><th scope=row>offer14</th><td>0.15   </td><td>0.18750</td><td>0.0000 </td><td>0.00000</td></tr>\n",
       "\t<tr><th scope=row>offer15</th><td>0.10   </td><td>0.12500</td><td>0.0000 </td><td>0.00000</td></tr>\n",
       "\t<tr><th scope=row>offer16</th><td>0.00   </td><td>0.12500</td><td>0.0625 </td><td>0.00000</td></tr>\n",
       "\t<tr><th scope=row>offer17</th><td>0.00   </td><td>0.00000</td><td>0.4375 </td><td>0.00000</td></tr>\n",
       "\t<tr><th scope=row>offer19</th><td>0.25   </td><td>0.00000</td><td>0.0000 </td><td>0.00000</td></tr>\n",
       "\t<tr><th scope=row>offer20</th><td>0.05   </td><td>0.15625</td><td>0.0000 </td><td>0.00000</td></tr>\n",
       "\t<tr><th scope=row>offer22</th><td>0.45   </td><td>0.37500</td><td>0.0000 </td><td>0.00000</td></tr>\n",
       "\t<tr><th scope=row>offer23</th><td>0.10   </td><td>0.06250</td><td>0.0625 </td><td>0.00000</td></tr>\n",
       "\t<tr><th scope=row>offer24</th><td>0.00   </td><td>0.00000</td><td>0.7500 </td><td>0.00000</td></tr>\n",
       "\t<tr><th scope=row>offer25</th><td>0.00   </td><td>0.18750</td><td>0.0000 </td><td>0.00000</td></tr>\n",
       "\t<tr><th scope=row>offer26</th><td>0.00   </td><td>0.09375</td><td>0.7500 </td><td>0.00000</td></tr>\n",
       "\t<tr><th scope=row>offer31</th><td>0.60   </td><td>0.15625</td><td>0.0000 </td><td>0.00000</td></tr>\n",
       "\t<tr><th scope=row>offer32</th><td>0.10   </td><td>0.06250</td><td>0.0000 </td><td>0.00000</td></tr>\n",
       "</tbody>\n",
       "</table>\n"
      ],
      "text/latex": [
       "\\begin{tabular}{r|llll}\n",
       "  & cluster1 & cluster2 & cluster3 & cluster4\\\\\n",
       "\\hline\n",
       "\toffer29 & 0.00    & 0.03125 & 0.0000  & 0.50000\\\\\n",
       "\toffer30 & 0.00    & 0.18750 & 0.0000  & 0.50000\\\\\n",
       "\toffer8 & 0.20    & 0.03125 & 0.0000  & 0.46875\\\\\n",
       "\toffer7 & 0.25    & 0.00000 & 0.0000  & 0.43750\\\\\n",
       "\toffer18 & 0.10    & 0.00000 & 0.0000  & 0.37500\\\\\n",
       "\toffer13 & 0.00    & 0.00000 & 0.0000  & 0.18750\\\\\n",
       "\toffer12 & 0.00    & 0.09375 & 0.0625  & 0.03125\\\\\n",
       "\toffer21 & 0.15    & 0.00000 & 0.0000  & 0.03125\\\\\n",
       "\toffer27 & 0.20    & 0.09375 & 0.0625  & 0.03125\\\\\n",
       "\toffer28 & 0.00    & 0.15625 & 0.0000  & 0.03125\\\\\n",
       "\toffer1 & 0.05    & 0.25000 & 0.0625  & 0.00000\\\\\n",
       "\toffer2 & 0.00    & 0.12500 & 0.3750  & 0.00000\\\\\n",
       "\toffer3 & 0.25    & 0.03125 & 0.0000  & 0.00000\\\\\n",
       "\toffer4 & 0.25    & 0.21875 & 0.0000  & 0.00000\\\\\n",
       "\toffer5 & 0.00    & 0.12500 & 0.0000  & 0.00000\\\\\n",
       "\toffer6 & 0.55    & 0.03125 & 0.0000  & 0.00000\\\\\n",
       "\toffer9 & 0.05    & 0.28125 & 0.0000  & 0.00000\\\\\n",
       "\toffer10 & 0.30    & 0.00000 & 0.0625  & 0.00000\\\\\n",
       "\toffer11 & 0.00    & 0.40625 & 0.0000  & 0.00000\\\\\n",
       "\toffer14 & 0.15    & 0.18750 & 0.0000  & 0.00000\\\\\n",
       "\toffer15 & 0.10    & 0.12500 & 0.0000  & 0.00000\\\\\n",
       "\toffer16 & 0.00    & 0.12500 & 0.0625  & 0.00000\\\\\n",
       "\toffer17 & 0.00    & 0.00000 & 0.4375  & 0.00000\\\\\n",
       "\toffer19 & 0.25    & 0.00000 & 0.0000  & 0.00000\\\\\n",
       "\toffer20 & 0.05    & 0.15625 & 0.0000  & 0.00000\\\\\n",
       "\toffer22 & 0.45    & 0.37500 & 0.0000  & 0.00000\\\\\n",
       "\toffer23 & 0.10    & 0.06250 & 0.0625  & 0.00000\\\\\n",
       "\toffer24 & 0.00    & 0.00000 & 0.7500  & 0.00000\\\\\n",
       "\toffer25 & 0.00    & 0.18750 & 0.0000  & 0.00000\\\\\n",
       "\toffer26 & 0.00    & 0.09375 & 0.7500  & 0.00000\\\\\n",
       "\toffer31 & 0.60    & 0.15625 & 0.0000  & 0.00000\\\\\n",
       "\toffer32 & 0.10    & 0.06250 & 0.0000  & 0.00000\\\\\n",
       "\\end{tabular}\n"
      ],
      "text/markdown": [
       "\n",
       "| <!--/--> | cluster1 | cluster2 | cluster3 | cluster4 | \n",
       "|---|---|---|---|---|---|---|---|---|---|---|---|---|---|---|---|---|---|---|---|---|---|---|---|---|---|---|---|---|---|---|---|\n",
       "| offer29 | 0.00    | 0.03125 | 0.0000  | 0.50000 | \n",
       "| offer30 | 0.00    | 0.18750 | 0.0000  | 0.50000 | \n",
       "| offer8 | 0.20    | 0.03125 | 0.0000  | 0.46875 | \n",
       "| offer7 | 0.25    | 0.00000 | 0.0000  | 0.43750 | \n",
       "| offer18 | 0.10    | 0.00000 | 0.0000  | 0.37500 | \n",
       "| offer13 | 0.00    | 0.00000 | 0.0000  | 0.18750 | \n",
       "| offer12 | 0.00    | 0.09375 | 0.0625  | 0.03125 | \n",
       "| offer21 | 0.15    | 0.00000 | 0.0000  | 0.03125 | \n",
       "| offer27 | 0.20    | 0.09375 | 0.0625  | 0.03125 | \n",
       "| offer28 | 0.00    | 0.15625 | 0.0000  | 0.03125 | \n",
       "| offer1 | 0.05    | 0.25000 | 0.0625  | 0.00000 | \n",
       "| offer2 | 0.00    | 0.12500 | 0.3750  | 0.00000 | \n",
       "| offer3 | 0.25    | 0.03125 | 0.0000  | 0.00000 | \n",
       "| offer4 | 0.25    | 0.21875 | 0.0000  | 0.00000 | \n",
       "| offer5 | 0.00    | 0.12500 | 0.0000  | 0.00000 | \n",
       "| offer6 | 0.55    | 0.03125 | 0.0000  | 0.00000 | \n",
       "| offer9 | 0.05    | 0.28125 | 0.0000  | 0.00000 | \n",
       "| offer10 | 0.30    | 0.00000 | 0.0625  | 0.00000 | \n",
       "| offer11 | 0.00    | 0.40625 | 0.0000  | 0.00000 | \n",
       "| offer14 | 0.15    | 0.18750 | 0.0000  | 0.00000 | \n",
       "| offer15 | 0.10    | 0.12500 | 0.0000  | 0.00000 | \n",
       "| offer16 | 0.00    | 0.12500 | 0.0625  | 0.00000 | \n",
       "| offer17 | 0.00    | 0.00000 | 0.4375  | 0.00000 | \n",
       "| offer19 | 0.25    | 0.00000 | 0.0000  | 0.00000 | \n",
       "| offer20 | 0.05    | 0.15625 | 0.0000  | 0.00000 | \n",
       "| offer22 | 0.45    | 0.37500 | 0.0000  | 0.00000 | \n",
       "| offer23 | 0.10    | 0.06250 | 0.0625  | 0.00000 | \n",
       "| offer24 | 0.00    | 0.00000 | 0.7500  | 0.00000 | \n",
       "| offer25 | 0.00    | 0.18750 | 0.0000  | 0.00000 | \n",
       "| offer26 | 0.00    | 0.09375 | 0.7500  | 0.00000 | \n",
       "| offer31 | 0.60    | 0.15625 | 0.0000  | 0.00000 | \n",
       "| offer32 | 0.10    | 0.06250 | 0.0000  | 0.00000 | \n",
       "\n",
       "\n"
      ],
      "text/plain": [
       "        cluster1 cluster2 cluster3 cluster4\n",
       "offer29 0.00     0.03125  0.0000   0.50000 \n",
       "offer30 0.00     0.18750  0.0000   0.50000 \n",
       "offer8  0.20     0.03125  0.0000   0.46875 \n",
       "offer7  0.25     0.00000  0.0000   0.43750 \n",
       "offer18 0.10     0.00000  0.0000   0.37500 \n",
       "offer13 0.00     0.00000  0.0000   0.18750 \n",
       "offer12 0.00     0.09375  0.0625   0.03125 \n",
       "offer21 0.15     0.00000  0.0000   0.03125 \n",
       "offer27 0.20     0.09375  0.0625   0.03125 \n",
       "offer28 0.00     0.15625  0.0000   0.03125 \n",
       "offer1  0.05     0.25000  0.0625   0.00000 \n",
       "offer2  0.00     0.12500  0.3750   0.00000 \n",
       "offer3  0.25     0.03125  0.0000   0.00000 \n",
       "offer4  0.25     0.21875  0.0000   0.00000 \n",
       "offer5  0.00     0.12500  0.0000   0.00000 \n",
       "offer6  0.55     0.03125  0.0000   0.00000 \n",
       "offer9  0.05     0.28125  0.0000   0.00000 \n",
       "offer10 0.30     0.00000  0.0625   0.00000 \n",
       "offer11 0.00     0.40625  0.0000   0.00000 \n",
       "offer14 0.15     0.18750  0.0000   0.00000 \n",
       "offer15 0.10     0.12500  0.0000   0.00000 \n",
       "offer16 0.00     0.12500  0.0625   0.00000 \n",
       "offer17 0.00     0.00000  0.4375   0.00000 \n",
       "offer19 0.25     0.00000  0.0000   0.00000 \n",
       "offer20 0.05     0.15625  0.0000   0.00000 \n",
       "offer22 0.45     0.37500  0.0000   0.00000 \n",
       "offer23 0.10     0.06250  0.0625   0.00000 \n",
       "offer24 0.00     0.00000  0.7500   0.00000 \n",
       "offer25 0.00     0.18750  0.0000   0.00000 \n",
       "offer26 0.00     0.09375  0.7500   0.00000 \n",
       "offer31 0.60     0.15625  0.0000   0.00000 \n",
       "offer32 0.10     0.06250  0.0000   0.00000 "
      ]
     },
     "metadata": {},
     "output_type": "display_data"
    }
   ],
   "source": [
    "df.centers[order(-df.centers[4]), ]"
   ]
  },
  {
   "cell_type": "code",
   "execution_count": 18,
   "metadata": {
    "collapsed": false
   },
   "outputs": [
    {
     "data": {
      "text/html": [
       "<table>\n",
       "<thead><tr><th></th><th scope=col>Offer..</th><th scope=col>Campaign</th><th scope=col>Varietal</th><th scope=col>Minimum.Qty..kg.</th><th scope=col>Discount....</th><th scope=col>Origin</th><th scope=col>Past.Peak</th></tr></thead>\n",
       "<tbody>\n",
       "\t<tr><th scope=row>29</th><td>29          </td><td>November    </td><td>Pinot Grigio</td><td>6           </td><td>87          </td><td>France      </td><td>FALSE       </td></tr>\n",
       "\t<tr><th scope=row>30</th><td>30          </td><td>December    </td><td>Malbec      </td><td>6           </td><td>54          </td><td>France      </td><td>FALSE       </td></tr>\n",
       "\t<tr><th scope=row>8</th><td> 8          </td><td>March       </td><td>Espumante   </td><td>6           </td><td>45          </td><td>South Africa</td><td>FALSE       </td></tr>\n",
       "\t<tr><th scope=row>7</th><td> 7          </td><td>March       </td><td>Prosecco    </td><td>6           </td><td>40          </td><td>Australia   </td><td> TRUE       </td></tr>\n",
       "\t<tr><th scope=row>18</th><td>18          </td><td>July        </td><td>Espumante   </td><td>6           </td><td>50          </td><td>Oregon      </td><td>FALSE       </td></tr>\n",
       "\t<tr><th scope=row>13</th><td>13          </td><td>May         </td><td>Merlot      </td><td>6           </td><td>43          </td><td>Chile       </td><td>FALSE       </td></tr>\n",
       "</tbody>\n",
       "</table>\n"
      ],
      "text/latex": [
       "\\begin{tabular}{r|lllllll}\n",
       "  & Offer.. & Campaign & Varietal & Minimum.Qty..kg. & Discount.... & Origin & Past.Peak\\\\\n",
       "\\hline\n",
       "\t29 & 29           & November     & Pinot Grigio & 6            & 87           & France       & FALSE       \\\\\n",
       "\t30 & 30           & December     & Malbec       & 6            & 54           & France       & FALSE       \\\\\n",
       "\t8 &  8           & March        & Espumante    & 6            & 45           & South Africa & FALSE       \\\\\n",
       "\t7 &  7           & March        & Prosecco     & 6            & 40           & Australia    &  TRUE       \\\\\n",
       "\t18 & 18           & July         & Espumante    & 6            & 50           & Oregon       & FALSE       \\\\\n",
       "\t13 & 13           & May          & Merlot       & 6            & 43           & Chile        & FALSE       \\\\\n",
       "\\end{tabular}\n"
      ],
      "text/markdown": [
       "\n",
       "| <!--/--> | Offer.. | Campaign | Varietal | Minimum.Qty..kg. | Discount.... | Origin | Past.Peak | \n",
       "|---|---|---|---|---|---|\n",
       "| 29 | 29           | November     | Pinot Grigio | 6            | 87           | France       | FALSE        | \n",
       "| 30 | 30           | December     | Malbec       | 6            | 54           | France       | FALSE        | \n",
       "| 8 |  8           | March        | Espumante    | 6            | 45           | South Africa | FALSE        | \n",
       "| 7 |  7           | March        | Prosecco     | 6            | 40           | Australia    |  TRUE        | \n",
       "| 18 | 18           | July         | Espumante    | 6            | 50           | Oregon       | FALSE        | \n",
       "| 13 | 13           | May          | Merlot       | 6            | 43           | Chile        | FALSE        | \n",
       "\n",
       "\n"
      ],
      "text/plain": [
       "   Offer.. Campaign Varietal     Minimum.Qty..kg. Discount.... Origin      \n",
       "29 29      November Pinot Grigio 6                87           France      \n",
       "30 30      December Malbec       6                54           France      \n",
       "8   8      March    Espumante    6                45           South Africa\n",
       "7   7      March    Prosecco     6                40           Australia   \n",
       "18 18      July     Espumante    6                50           Oregon      \n",
       "13 13      May      Merlot       6                43           Chile       \n",
       "   Past.Peak\n",
       "29 FALSE    \n",
       "30 FALSE    \n",
       "8  FALSE    \n",
       "7   TRUE    \n",
       "18 FALSE    \n",
       "13 FALSE    "
      ]
     },
     "metadata": {},
     "output_type": "display_data"
    }
   ],
   "source": [
    "cluster4_top10 <- c(29,30,8,7,18,13)\n",
    "wine_desc[cluster4_top10, ]"
   ]
  },
  {
   "cell_type": "markdown",
   "metadata": {},
   "source": [
    "Customers in cluster 4 purchased sparingly and preferred the low volume, high discount offers. "
   ]
  },
  {
   "cell_type": "markdown",
   "metadata": {},
   "source": [
    "### Selecting the optimal number of clusters - the Elbow method\n",
    "\n",
    "While we found some patterns in the four clusters, we may still wonder if a smaller or larger number of clusters may have been more appropriate. One heuristic approach to determining the optimal number of clusters is to apply the elbow method, i.e., plot the within-cluster variance against the number of clusters. We will use this method to help us decide on the optimal number of clusters. "
   ]
  },
  {
   "cell_type": "code",
   "execution_count": 19,
   "metadata": {
    "collapsed": false
   },
   "outputs": [
    {
     "name": "stderr",
     "output_type": "stream",
     "text": [
      "Warning message:\n",
      "\"did not converge in 10 iterations\"Warning message:\n",
      "\"did not converge in 10 iterations\""
     ]
    }
   ],
   "source": [
    "# Get the variance of each feature\n",
    "feature_var <- apply(wine, 2, var)\n",
    "# Add them up to obtain the total variance\n",
    "tot_var <- sum(feature_var)\n",
    "# Multiply by n-1 to obtain the total sum of squares:\n",
    "tss <- (nrow(wine)-1)*tot_var\n",
    "# When we have only one cluster, the total sum of squares is also the within sum of squares\n",
    "wss <- length(20)\n",
    "wss[1] <- tss\n",
    "\n",
    "# Obtain the total within sum of squares after running k-means with number of clusters from 2 to 20\n",
    "for (i in 2:20) wss[i] <- kmeans(wine, centers=i, nstart=10)$tot.withinss"
   ]
  },
  {
   "cell_type": "code",
   "execution_count": 20,
   "metadata": {
    "collapsed": false
   },
   "outputs": [
    {
     "data": {
      "image/png": "[encoded data removed]",
      "text/plain": [
       "Plot with title \"Assessing the Optimal Number of Clusters with the Elbow Method\""
      ]
     },
     "metadata": {},
     "output_type": "display_data"
    }
   ],
   "source": [
    "plot(c(1:20), wss, type=\"b\", xlab=\"Number of Clusters\", ylab=\"Within-cluster sum of squares\", main=\"Assessing the Optimal Number of Clusters with the Elbow Method\", pch=20, cex=2)"
   ]
  },
  {
   "cell_type": "markdown",
   "metadata": {},
   "source": [
    "Unfortunately, there is no clear \"elbow\" in the plot above to help us select the optimal number of clusters but it seems that the within sum of squares starts decreasing at a slower rate after cluster 6. Since it might be too costly to design targeted offers for too many groups of customers, we may be interested in no more than 6 clusters anyway.\n",
    "\n",
    "If the data could be largely explained by its first two principal components (which is not the case here as shown above), we could plot the clusters in 2-dimensional space using 3, 4, 5, or 6 clusters and examine which setup results in well separated clusters.   "
   ]
  },
  {
   "cell_type": "markdown",
   "metadata": {},
   "source": [
    "###  Selecting the optimal number of clusters - the Gap statistic \n",
    "\n",
    "A more formal method to determine the optimal number of clusters was developed by Tibshirani et al (2001), which estimates the largest difference (gap) between the log of the observed within sum of squares and the log of the expected sum of squares based on a reference distribution. The optimal number of clusters is given as the smallest k that results in the highest gap that is at least as large as the standard deviation of the gap statistic."
   ]
  },
  {
   "cell_type": "code",
   "execution_count": 21,
   "metadata": {
    "collapsed": false
   },
   "outputs": [
    {
     "name": "stderr",
     "output_type": "stream",
     "text": [
      "Loading required package: cluster\n"
     ]
    }
   ],
   "source": [
    "#install.packages(\"cluster\", repo=\"CRAN\")\n",
    "require(cluster)"
   ]
  },
  {
   "cell_type": "code",
   "execution_count": 22,
   "metadata": {
    "collapsed": false
   },
   "outputs": [],
   "source": [
    "set.seed(14)\n",
    "gap_stat <- clusGap(wine, FUN = kmeans, nstart = 25, K.max=10, B = 100)"
   ]
  },
  {
   "cell_type": "code",
   "execution_count": 23,
   "metadata": {
    "collapsed": false
   },
   "outputs": [
    {
     "data": {
      "text/plain": [
       "Clustering Gap statistic [\"clusGap\"] from call:\n",
       "clusGap(x = wine, FUNcluster = kmeans, K.max = 10, B = 100, nstart = 25)\n",
       "B=100 simulated reference sets, k = 1..10; spaceH0=\"scaledPCA\"\n",
       " --> Number of clusters (method 'firstSEmax', SE.factor=1): 9\n",
       "          logW   E.logW       gap     SE.sim\n",
       " [1,] 4.057172 4.523635 0.4664629 0.01082993\n",
       " [2,] 3.986771 4.471971 0.4851992 0.01049629\n",
       " [3,] 3.919637 4.434967 0.5153297 0.01049935\n",
       " [4,] 3.882556 4.403767 0.5212107 0.01086439\n",
       " [5,] 3.845563 4.376744 0.5311812 0.01106331\n",
       " [6,] 3.811686 4.352015 0.5403291 0.01134528\n",
       " [7,] 3.782376 4.328666 0.5462898 0.01166720\n",
       " [8,] 3.760647 4.307012 0.5463657 0.01165952\n",
       " [9,] 3.727800 4.286166 0.5583663 0.01165111\n",
       "[10,] 3.702733 4.265891 0.5631577 0.01188131"
      ]
     },
     "metadata": {},
     "output_type": "display_data"
    },
    {
     "data": {
      "text/html": [
       "<ol class=list-inline>\n",
       "\t<li>'Tab'</li>\n",
       "\t<li>'call'</li>\n",
       "\t<li>'spaceH0'</li>\n",
       "\t<li>'n'</li>\n",
       "\t<li>'B'</li>\n",
       "\t<li>'FUNcluster'</li>\n",
       "</ol>\n"
      ],
      "text/latex": [
       "\\begin{enumerate*}\n",
       "\\item 'Tab'\n",
       "\\item 'call'\n",
       "\\item 'spaceH0'\n",
       "\\item 'n'\n",
       "\\item 'B'\n",
       "\\item 'FUNcluster'\n",
       "\\end{enumerate*}\n"
      ],
      "text/markdown": [
       "1. 'Tab'\n",
       "2. 'call'\n",
       "3. 'spaceH0'\n",
       "4. 'n'\n",
       "5. 'B'\n",
       "6. 'FUNcluster'\n",
       "\n",
       "\n"
      ],
      "text/plain": [
       "[1] \"Tab\"        \"call\"       \"spaceH0\"    \"n\"          \"B\"         \n",
       "[6] \"FUNcluster\""
      ]
     },
     "metadata": {},
     "output_type": "display_data"
    }
   ],
   "source": [
    "gap_stat\n",
    "names(gap_stat)"
   ]
  },
  {
   "cell_type": "markdown",
   "metadata": {},
   "source": [
    "The default method for determining the optimal number of clusters is the \"firstSEmax\" - it looks for the smallest number of clusters, k, such that the gap statistic for this k is not more than 1 standard deviation away from the first local maximum. According to this method, the optimal number of clusters is 9, as shown in the output above. \n",
    "\n",
    "Does the selection of optimal k depend on the method chosen? We will also implement the clusGap function using the scaled standard deviation measure derived in Tibshirani et al (2001) - it is selected with \"Tibs2001SEmax\". "
   ]
  },
  {
   "cell_type": "code",
   "execution_count": 24,
   "metadata": {
    "collapsed": false
   },
   "outputs": [
    {
     "data": {
      "image/png": "[encoded data removed]",
      "text/plain": [
       "Plot with title \"Gap statsistic\""
      ]
     },
     "metadata": {},
     "output_type": "display_data"
    }
   ],
   "source": [
    "# Plot the gap statistic and optimal number of clusters\n",
    "k1 <- maxSE(gap_stat$Tab[, \"gap\"], gap_stat$Tab[, \"SE.sim\"], method=\"firstSEmax\")\n",
    "k2 <- maxSE(gap_stat$Tab[, \"gap\"], gap_stat$Tab[, \"SE.sim\"], method=\"Tibs2001SEmax\")\n",
    "\n",
    "plot(gap_stat, main=(\"Gap statsistic\"))\n",
    "abline(v=k1, lty=3, lwd=2, col=\"Green\")\n",
    "abline(v=k2, lty=3, lwd=2, col=\"Blue\")"
   ]
  },
  {
   "cell_type": "markdown",
   "metadata": {},
   "source": [
    "Depending on the choice of method, the optimal number of clusters is indicated as 3 or 9 - this is harldy a consensus. The Elbow method also did not produce a clear cut choice for k. This example illustrates that choosing the optimal number of clusters is tricky, especially when we cannot visualize the observations in a two-dimensional plot. Perhaps the choice of k between 3 and 9 will be ultimately determined by considering the tradeoff between the risk of overspending by choosing a larger number of customer groups and the risk of alienating some customers with irrelevant offers by choosing a smaller number of clusters. \n",
    "\n",
    "We will examine the result of one more heuristic - the cluster \"silhouette\". \n",
    "\n",
    "### Selecting the optimal number of clusters - Silhouette analysis\n",
    "\n",
    "An alternative metric of measuring whether the derived clusters are well defined is called the 'silhouette' - it is measured at the observation level and takes into account not only how close an observation is to its assigned cluster, but also how close it is to the nearest cluster it does not belong to. A silhouette measure ranges from 0 to 1 and is interpreted as follows: \n",
    "\n",
    "* Observations with a silhouette value close to 1 are well clustered\n",
    "\n",
    "* Observations with a silhouette value close to 0 means that the observations lie between two clusters\n",
    "\n",
    "* Observations with a negative silhouette value are probably placed in the wrong cluster\n",
    "\n",
    "We will plot the silhouettes of each cluster in two scenarios: k=3 and k=9."
   ]
  },
  {
   "cell_type": "code",
   "execution_count": 25,
   "metadata": {
    "collapsed": false
   },
   "outputs": [
    {
     "data": {
      "text/html": [
       "<table>\n",
       "<thead><tr><th scope=col>cluster</th><th scope=col>neighbor</th><th scope=col>sil_width</th></tr></thead>\n",
       "<tbody>\n",
       "\t<tr><td>2          </td><td>1          </td><td> 0.26269670</td></tr>\n",
       "\t<tr><td>3          </td><td>1          </td><td>-0.04917952</td></tr>\n",
       "\t<tr><td>1          </td><td>2          </td><td> 0.44202431</td></tr>\n",
       "\t<tr><td>2          </td><td>1          </td><td> 0.21283769</td></tr>\n",
       "\t<tr><td>3          </td><td>2          </td><td>-0.08089974</td></tr>\n",
       "\t<tr><td>3          </td><td>2          </td><td> 0.03060239</td></tr>\n",
       "\t<tr><td>1          </td><td>2          </td><td> 0.46562313</td></tr>\n",
       "\t<tr><td>2          </td><td>1          </td><td> 0.23343669</td></tr>\n",
       "\t<tr><td>3          </td><td>2          </td><td>-0.05256629</td></tr>\n",
       "\t<tr><td>2          </td><td>1          </td><td> 0.28661095</td></tr>\n",
       "</tbody>\n",
       "</table>\n"
      ],
      "text/latex": [
       "\\begin{tabular}{lll}\n",
       " cluster & neighbor & sil\\_width\\\\\n",
       "\\hline\n",
       "\t 2           & 1           &  0.26269670\\\\\n",
       "\t 3           & 1           & -0.04917952\\\\\n",
       "\t 1           & 2           &  0.44202431\\\\\n",
       "\t 2           & 1           &  0.21283769\\\\\n",
       "\t 3           & 2           & -0.08089974\\\\\n",
       "\t 3           & 2           &  0.03060239\\\\\n",
       "\t 1           & 2           &  0.46562313\\\\\n",
       "\t 2           & 1           &  0.23343669\\\\\n",
       "\t 3           & 2           & -0.05256629\\\\\n",
       "\t 2           & 1           &  0.28661095\\\\\n",
       "\\end{tabular}\n"
      ],
      "text/markdown": [
       "\n",
       "cluster | neighbor | sil_width | \n",
       "|---|---|---|---|---|---|---|---|---|---|\n",
       "| 2           | 1           |  0.26269670 | \n",
       "| 3           | 1           | -0.04917952 | \n",
       "| 1           | 2           |  0.44202431 | \n",
       "| 2           | 1           |  0.21283769 | \n",
       "| 3           | 2           | -0.08089974 | \n",
       "| 3           | 2           |  0.03060239 | \n",
       "| 1           | 2           |  0.46562313 | \n",
       "| 2           | 1           |  0.23343669 | \n",
       "| 3           | 2           | -0.05256629 | \n",
       "| 2           | 1           |  0.28661095 | \n",
       "\n",
       "\n"
      ],
      "text/plain": [
       "      cluster neighbor sil_width  \n",
       " [1,] 2       1         0.26269670\n",
       " [2,] 3       1        -0.04917952\n",
       " [3,] 1       2         0.44202431\n",
       " [4,] 2       1         0.21283769\n",
       " [5,] 3       2        -0.08089974\n",
       " [6,] 3       2         0.03060239\n",
       " [7,] 1       2         0.46562313\n",
       " [8,] 2       1         0.23343669\n",
       " [9,] 3       2        -0.05256629\n",
       "[10,] 2       1         0.28661095"
      ]
     },
     "metadata": {},
     "output_type": "display_data"
    }
   ],
   "source": [
    "sil_3k <- silhouette(kmeans(wine, 3, nstart=20)$cluster, dist(wine), dist(wine))\n",
    "head(sil_3k[, 1:3], 10)"
   ]
  },
  {
   "cell_type": "code",
   "execution_count": 26,
   "metadata": {
    "collapsed": false
   },
   "outputs": [
    {
     "data": {
      "image/png": "[encoded data removed]",
      "text/plain": [
       "Plot with title \"Silhouette plot - k=3\""
      ]
     },
     "metadata": {},
     "output_type": "display_data"
    }
   ],
   "source": [
    "plot(sil_3k, main = \"Silhouette plot - k=3\")"
   ]
  },
  {
   "cell_type": "markdown",
   "metadata": {},
   "source": [
    "With three clusters, the silhouette plot clearly indicates that one of the clusters is not well defined - a lot the observations assigned to this cluster have negative silhouettes indicating that they are probably not assigned to the right cluster. In addition, even in the other two clusters, the average silhouette is less than 0.5 indicating that there is a lot of ambiguity in the cluster assignment. \n",
    "\n",
    "Next we examine the silhouette plot with 9 clusters. "
   ]
  },
  {
   "cell_type": "code",
   "execution_count": 27,
   "metadata": {
    "collapsed": false
   },
   "outputs": [
    {
     "data": {
      "text/html": [
       "<table>\n",
       "<thead><tr><th scope=col>cluster</th><th scope=col>neighbor</th><th scope=col>sil_width</th></tr></thead>\n",
       "<tbody>\n",
       "\t<tr><td>5         </td><td>6         </td><td>0.17057512</td></tr>\n",
       "\t<tr><td>8         </td><td>5         </td><td>0.02444335</td></tr>\n",
       "\t<tr><td>1         </td><td>5         </td><td>0.48875092</td></tr>\n",
       "\t<tr><td>5         </td><td>6         </td><td>0.15381832</td></tr>\n",
       "\t<tr><td>3         </td><td>5         </td><td>0.05671052</td></tr>\n",
       "\t<tr><td>3         </td><td>7         </td><td>0.13108968</td></tr>\n",
       "\t<tr><td>1         </td><td>5         </td><td>0.51153946</td></tr>\n",
       "\t<tr><td>6         </td><td>5         </td><td>0.21033544</td></tr>\n",
       "\t<tr><td>7         </td><td>6         </td><td>0.04736467</td></tr>\n",
       "\t<tr><td>5         </td><td>6         </td><td>0.22023409</td></tr>\n",
       "</tbody>\n",
       "</table>\n"
      ],
      "text/latex": [
       "\\begin{tabular}{lll}\n",
       " cluster & neighbor & sil\\_width\\\\\n",
       "\\hline\n",
       "\t 5          & 6          & 0.17057512\\\\\n",
       "\t 8          & 5          & 0.02444335\\\\\n",
       "\t 1          & 5          & 0.48875092\\\\\n",
       "\t 5          & 6          & 0.15381832\\\\\n",
       "\t 3          & 5          & 0.05671052\\\\\n",
       "\t 3          & 7          & 0.13108968\\\\\n",
       "\t 1          & 5          & 0.51153946\\\\\n",
       "\t 6          & 5          & 0.21033544\\\\\n",
       "\t 7          & 6          & 0.04736467\\\\\n",
       "\t 5          & 6          & 0.22023409\\\\\n",
       "\\end{tabular}\n"
      ],
      "text/markdown": [
       "\n",
       "cluster | neighbor | sil_width | \n",
       "|---|---|---|---|---|---|---|---|---|---|\n",
       "| 5          | 6          | 0.17057512 | \n",
       "| 8          | 5          | 0.02444335 | \n",
       "| 1          | 5          | 0.48875092 | \n",
       "| 5          | 6          | 0.15381832 | \n",
       "| 3          | 5          | 0.05671052 | \n",
       "| 3          | 7          | 0.13108968 | \n",
       "| 1          | 5          | 0.51153946 | \n",
       "| 6          | 5          | 0.21033544 | \n",
       "| 7          | 6          | 0.04736467 | \n",
       "| 5          | 6          | 0.22023409 | \n",
       "\n",
       "\n"
      ],
      "text/plain": [
       "      cluster neighbor sil_width \n",
       " [1,] 5       6        0.17057512\n",
       " [2,] 8       5        0.02444335\n",
       " [3,] 1       5        0.48875092\n",
       " [4,] 5       6        0.15381832\n",
       " [5,] 3       5        0.05671052\n",
       " [6,] 3       7        0.13108968\n",
       " [7,] 1       5        0.51153946\n",
       " [8,] 6       5        0.21033544\n",
       " [9,] 7       6        0.04736467\n",
       "[10,] 5       6        0.22023409"
      ]
     },
     "metadata": {},
     "output_type": "display_data"
    },
    {
     "data": {
      "image/png": "[encoded data removed]",
      "text/plain": [
       "Plot with title \"Silhouette plot - k=9\""
      ]
     },
     "metadata": {},
     "output_type": "display_data"
    }
   ],
   "source": [
    "sil_9k <- silhouette(kmeans(wine, 9, nstart=20)$cluster, dist(wine))\n",
    "head(sil_9k[, 1:3], 10)\n",
    "plot(sil_9k, main=\"Silhouette plot - k=9\")"
   ]
  },
  {
   "cell_type": "markdown",
   "metadata": {},
   "source": [
    "The average silhouette with 9 clusters is slightly higher than with 3 clusters. While two of the clusters seem more well defined than in the case with 3 clusters only, the rest of the clusters do not have particularly high silhouettes and suggest that we have not improved significantly on the compactness of the clusters by selecting 9 clusters.  \n",
    "\n",
    "## Application of spherical K-means\n",
    "\n",
    "It appears that the poor clustering performance cannot be explained by the selection of the number of clusters. As discussed in the book by John Foreman, \"Data Smart,\" the plain vanilla k-means is not the optimal algorithm for clustering customers based on purchase history. The purchase data is binary with 1 indicating a purchase and 0 otherwise. The fact that a customer made a purchase conveys more information and therefore should carry more weight than the fact that she did not. This property is defined as \"null invariance\" in Tan, Kumar, and Srivastava (2004), which further explain that null invariant measures like cosine similarity and the Jaccard similarity metric are appropriate for \"sparse data sets, where co-presence of items is more important than co-absence. Examples include market-basket data and text documents.\" In the present case of market basket analysis, two customers who purchased the same product tend to be more similar to each other than two customers who both did not purchase a given product. Therefore, we will proceed with a clustering algorithm that uses *cosine dissimilarity* and is known as *spherical k-means*.\n",
    "\n",
    "Cosine dissimilarity equals 1 minus cosine similarity, where the latter is defined as the inner product of two observations divided by the product of their L-2 norms (i.e., it is the inner product of two observations normalized by their vector magnitudes). Technically, cosine dissimilarity is not a distance measure because it does not conform to the triangle inequality. However, for non-negative feature vectors the cosine dissimilarity ranges from 0 to 1, with 0 indicating identical observations, thereby one could interpret it in the same way as a distance measure. \n",
    "\n",
    "Cosine dissimilarity is also exteremely efficient to calculate for sparse feature vectors because it only needs to consider the non-zero elements of the vectors. For this reason it is commonly used for clustering text documents where the feature vectors are the word counts and they tend to be pretty sparse.\n",
    "\n",
    "Below we will examine the clusters formed under spherical k-means using 3 clusters. "
   ]
  },
  {
   "cell_type": "code",
   "execution_count": 28,
   "metadata": {
    "collapsed": false
   },
   "outputs": [],
   "source": [
    "# Install package \"skmeans\"\n",
    "#options(repos='http://cran.rstudio.com/')\n",
    "#install.packages(\"skmeans\")"
   ]
  },
  {
   "cell_type": "code",
   "execution_count": 29,
   "metadata": {
    "collapsed": false
   },
   "outputs": [
    {
     "name": "stderr",
     "output_type": "stream",
     "text": [
      "Loading required package: skmeans\n"
     ]
    },
    {
     "data": {
      "text/plain": [
       "A hard spherical k-means partition of 100 objects into 3 classes.\n",
       "Class sizes: 47, 17, 36\n",
       "Call: skmeans(x = wine.m, k = 3, method = \"genetic\")"
      ]
     },
     "metadata": {},
     "output_type": "display_data"
    }
   ],
   "source": [
    "require(skmeans)\n",
    "wine.m <- as.matrix(wine)\n",
    "\n",
    "# Method *genetic* specifies that we would like hard partitions as opposed to soft assignments\n",
    "skm.out <- skmeans(wine.m, 3, method=\"genetic\")\n",
    "skm.out"
   ]
  },
  {
   "cell_type": "code",
   "execution_count": 30,
   "metadata": {
    "collapsed": false
   },
   "outputs": [
    {
     "name": "stdout",
     "output_type": "stream",
     "text": [
      "List of 7\n",
      " $ prototypes: num [1:3, 1:32] 0.1673 0.09 0 0.0678 0.3315 ...\n",
      "  ..- attr(*, \"dimnames\")=List of 2\n",
      "  .. ..$ : chr [1:3] \"1\" \"2\" \"3\"\n",
      "  .. ..$ : chr [1:32] \"offer1\" \"offer2\" \"offer3\" \"offer4\" ...\n",
      " $ membership: NULL\n",
      " $ cluster   : Named int [1:100] 3 1 2 3 1 1 2 3 1 3 ...\n",
      "  ..- attr(*, \"names\")= chr [1:100] \"Adams\" \"Allen\" \"Anderson\" \"Bailey\" ...\n",
      " $ family    :List of 7\n",
      "  ..$ description: chr \"spherical k-means\"\n",
      "  ..$ D          :function (x, prototypes)  \n",
      "  ..$ C          :function (x, weights, control)  \n",
      "  ..$ init       :function (x, k)  \n",
      "  ..$ e          : num 1\n",
      "  ..$ .modify    : NULL\n",
      "  ..$ .subset    : NULL\n",
      "  ..- attr(*, \"class\")= chr \"pclust_family\"\n",
      " $ m         : num 1\n",
      " $ value     : num 45.1\n",
      " $ call      : language skmeans(x = wine.m, k = 3, method = \"genetic\")\n",
      " - attr(*, \"class\")= chr [1:2] \"skmeans\" \"pclust\"\n"
     ]
    }
   ],
   "source": [
    "str(skm.out)"
   ]
  },
  {
   "cell_type": "markdown",
   "metadata": {},
   "source": [
    "Let's examine the output of the *skmeans* function"
   ]
  },
  {
   "cell_type": "code",
   "execution_count": 31,
   "metadata": {
    "collapsed": false
   },
   "outputs": [
    {
     "data": {
      "text/html": [
       "<ol class=list-inline>\n",
       "\t<li>'prototypes'</li>\n",
       "\t<li>'membership'</li>\n",
       "\t<li>'cluster'</li>\n",
       "\t<li>'family'</li>\n",
       "\t<li>'m'</li>\n",
       "\t<li>'value'</li>\n",
       "\t<li>'call'</li>\n",
       "</ol>\n"
      ],
      "text/latex": [
       "\\begin{enumerate*}\n",
       "\\item 'prototypes'\n",
       "\\item 'membership'\n",
       "\\item 'cluster'\n",
       "\\item 'family'\n",
       "\\item 'm'\n",
       "\\item 'value'\n",
       "\\item 'call'\n",
       "\\end{enumerate*}\n"
      ],
      "text/markdown": [
       "1. 'prototypes'\n",
       "2. 'membership'\n",
       "3. 'cluster'\n",
       "4. 'family'\n",
       "5. 'm'\n",
       "6. 'value'\n",
       "7. 'call'\n",
       "\n",
       "\n"
      ],
      "text/plain": [
       "[1] \"prototypes\" \"membership\" \"cluster\"    \"family\"     \"m\"         \n",
       "[6] \"value\"      \"call\"      "
      ]
     },
     "metadata": {},
     "output_type": "display_data"
    }
   ],
   "source": [
    "names(skm.out)"
   ]
  },
  {
   "cell_type": "code",
   "execution_count": 32,
   "metadata": {
    "collapsed": false
   },
   "outputs": [
    {
     "data": {
      "text/html": [
       "<table>\n",
       "<thead><tr><th></th><th scope=col>offer1</th><th scope=col>offer2</th><th scope=col>offer3</th><th scope=col>offer4</th><th scope=col>offer5</th><th scope=col>offer6</th><th scope=col>offer7</th><th scope=col>offer8</th><th scope=col>offer9</th><th scope=col>offer10</th><th scope=col>...</th><th scope=col>offer23</th><th scope=col>offer24</th><th scope=col>offer25</th><th scope=col>offer26</th><th scope=col>offer27</th><th scope=col>offer28</th><th scope=col>offer29</th><th scope=col>offer30</th><th scope=col>offer31</th><th scope=col>offer32</th></tr></thead>\n",
       "<tbody>\n",
       "\t<tr><th scope=row>1</th><td>0.1673020 </td><td>0.06779343</td><td>0.09786051</td><td>0.28626   </td><td>0.1168974 </td><td>0.24351764</td><td>0.06363495</td><td>0.06806992</td><td>0.2738547 </td><td>0.09077439</td><td>...       </td><td>0.1019726 </td><td>0.0000000 </td><td>0.1444314 </td><td>0.05411504</td><td>0.17966173</td><td>0.11986887</td><td>0.02161678</td><td>0.1123912 </td><td>0.4355708 </td><td>0.09223821</td></tr>\n",
       "\t<tr><th scope=row>2</th><td>0.0900197 </td><td>0.33146720</td><td>0.00000000</td><td>0.00000   </td><td>0.0000000 </td><td>0.00000000</td><td>0.00000000</td><td>0.00000000</td><td>0.0000000 </td><td>0.03294950</td><td>...       </td><td>0.0329495 </td><td>0.6199938 </td><td>0.0000000 </td><td>0.60903974</td><td>0.03294950</td><td>0.00000000</td><td>0.00000000</td><td>0.0000000 </td><td>0.0000000 </td><td>0.00000000</td></tr>\n",
       "\t<tr><th scope=row>3</th><td>0.0000000 </td><td>0.00000000</td><td>0.04525240</td><td>0.00000   </td><td>0.0000000 </td><td>0.02295681</td><td>0.43940533</td><td>0.49876674</td><td>0.0000000 </td><td>0.04946505</td><td>...       </td><td>0.0000000 </td><td>0.0000000 </td><td>0.0000000 </td><td>0.00000000</td><td>0.03246583</td><td>0.03246583</td><td>0.44210283</td><td>0.4566784 </td><td>0.0000000 </td><td>0.00000000</td></tr>\n",
       "</tbody>\n",
       "</table>\n"
      ],
      "text/latex": [
       "\\begin{tabular}{r|llllllllllllllllllllllllllllllll}\n",
       "  & offer1 & offer2 & offer3 & offer4 & offer5 & offer6 & offer7 & offer8 & offer9 & offer10 & ... & offer23 & offer24 & offer25 & offer26 & offer27 & offer28 & offer29 & offer30 & offer31 & offer32\\\\\n",
       "\\hline\n",
       "\t1 & 0.1673020  & 0.06779343 & 0.09786051 & 0.28626    & 0.1168974  & 0.24351764 & 0.06363495 & 0.06806992 & 0.2738547  & 0.09077439 & ...        & 0.1019726  & 0.0000000  & 0.1444314  & 0.05411504 & 0.17966173 & 0.11986887 & 0.02161678 & 0.1123912  & 0.4355708  & 0.09223821\\\\\n",
       "\t2 & 0.0900197  & 0.33146720 & 0.00000000 & 0.00000    & 0.0000000  & 0.00000000 & 0.00000000 & 0.00000000 & 0.0000000  & 0.03294950 & ...        & 0.0329495  & 0.6199938  & 0.0000000  & 0.60903974 & 0.03294950 & 0.00000000 & 0.00000000 & 0.0000000  & 0.0000000  & 0.00000000\\\\\n",
       "\t3 & 0.0000000  & 0.00000000 & 0.04525240 & 0.00000    & 0.0000000  & 0.02295681 & 0.43940533 & 0.49876674 & 0.0000000  & 0.04946505 & ...        & 0.0000000  & 0.0000000  & 0.0000000  & 0.00000000 & 0.03246583 & 0.03246583 & 0.44210283 & 0.4566784  & 0.0000000  & 0.00000000\\\\\n",
       "\\end{tabular}\n"
      ],
      "text/markdown": [
       "\n",
       "| <!--/--> | offer1 | offer2 | offer3 | offer4 | offer5 | offer6 | offer7 | offer8 | offer9 | offer10 | ... | offer23 | offer24 | offer25 | offer26 | offer27 | offer28 | offer29 | offer30 | offer31 | offer32 | \n",
       "|---|---|---|\n",
       "| 1 | 0.1673020  | 0.06779343 | 0.09786051 | 0.28626    | 0.1168974  | 0.24351764 | 0.06363495 | 0.06806992 | 0.2738547  | 0.09077439 | ...        | 0.1019726  | 0.0000000  | 0.1444314  | 0.05411504 | 0.17966173 | 0.11986887 | 0.02161678 | 0.1123912  | 0.4355708  | 0.09223821 | \n",
       "| 2 | 0.0900197  | 0.33146720 | 0.00000000 | 0.00000    | 0.0000000  | 0.00000000 | 0.00000000 | 0.00000000 | 0.0000000  | 0.03294950 | ...        | 0.0329495  | 0.6199938  | 0.0000000  | 0.60903974 | 0.03294950 | 0.00000000 | 0.00000000 | 0.0000000  | 0.0000000  | 0.00000000 | \n",
       "| 3 | 0.0000000  | 0.00000000 | 0.04525240 | 0.00000    | 0.0000000  | 0.02295681 | 0.43940533 | 0.49876674 | 0.0000000  | 0.04946505 | ...        | 0.0000000  | 0.0000000  | 0.0000000  | 0.00000000 | 0.03246583 | 0.03246583 | 0.44210283 | 0.4566784  | 0.0000000  | 0.00000000 | \n",
       "\n",
       "\n"
      ],
      "text/plain": [
       "  offer1    offer2     offer3     offer4  offer5    offer6     offer7    \n",
       "1 0.1673020 0.06779343 0.09786051 0.28626 0.1168974 0.24351764 0.06363495\n",
       "2 0.0900197 0.33146720 0.00000000 0.00000 0.0000000 0.00000000 0.00000000\n",
       "3 0.0000000 0.00000000 0.04525240 0.00000 0.0000000 0.02295681 0.43940533\n",
       "  offer8     offer9    offer10    ... offer23   offer24   offer25   offer26   \n",
       "1 0.06806992 0.2738547 0.09077439 ... 0.1019726 0.0000000 0.1444314 0.05411504\n",
       "2 0.00000000 0.0000000 0.03294950 ... 0.0329495 0.6199938 0.0000000 0.60903974\n",
       "3 0.49876674 0.0000000 0.04946505 ... 0.0000000 0.0000000 0.0000000 0.00000000\n",
       "  offer27    offer28    offer29    offer30   offer31   offer32   \n",
       "1 0.17966173 0.11986887 0.02161678 0.1123912 0.4355708 0.09223821\n",
       "2 0.03294950 0.00000000 0.00000000 0.0000000 0.0000000 0.00000000\n",
       "3 0.03246583 0.03246583 0.44210283 0.4566784 0.0000000 0.00000000"
      ]
     },
     "metadata": {},
     "output_type": "display_data"
    }
   ],
   "source": [
    "skm.out$prototypes"
   ]
  },
  {
   "cell_type": "markdown",
   "metadata": {},
   "source": [
    "*Prototypes* is another name for the cluster centers - here we see the feature vectors associated with each cluster center."
   ]
  },
  {
   "cell_type": "code",
   "execution_count": 33,
   "metadata": {
    "collapsed": false
   },
   "outputs": [
    {
     "data": {
      "text/html": [
       "<dl class=dl-horizontal>\n",
       "\t<dt>Adams</dt>\n",
       "\t\t<dd>3</dd>\n",
       "\t<dt>Allen</dt>\n",
       "\t\t<dd>1</dd>\n",
       "\t<dt>Anderson</dt>\n",
       "\t\t<dd>2</dd>\n",
       "\t<dt>Bailey</dt>\n",
       "\t\t<dd>3</dd>\n",
       "\t<dt>Baker</dt>\n",
       "\t\t<dd>1</dd>\n",
       "\t<dt>Barnes</dt>\n",
       "\t\t<dd>1</dd>\n",
       "</dl>\n"
      ],
      "text/latex": [
       "\\begin{description*}\n",
       "\\item[Adams] 3\n",
       "\\item[Allen] 1\n",
       "\\item[Anderson] 2\n",
       "\\item[Bailey] 3\n",
       "\\item[Baker] 1\n",
       "\\item[Barnes] 1\n",
       "\\end{description*}\n"
      ],
      "text/markdown": [
       "Adams\n",
       ":   3Allen\n",
       ":   1Anderson\n",
       ":   2Bailey\n",
       ":   3Baker\n",
       ":   1Barnes\n",
       ":   1\n",
       "\n"
      ],
      "text/plain": [
       "   Adams    Allen Anderson   Bailey    Baker   Barnes \n",
       "       3        1        2        3        1        1 "
      ]
     },
     "metadata": {},
     "output_type": "display_data"
    }
   ],
   "source": [
    "# Cluster assignments\n",
    "head(skm.out$cluster)"
   ]
  },
  {
   "cell_type": "code",
   "execution_count": 34,
   "metadata": {
    "collapsed": false
   },
   "outputs": [
    {
     "data": {
      "text/html": [
       "45.1415879155466"
      ],
      "text/latex": [
       "45.1415879155466"
      ],
      "text/markdown": [
       "45.1415879155466"
      ],
      "text/plain": [
       "[1] 45.14159"
      ]
     },
     "metadata": {},
     "output_type": "display_data"
    }
   ],
   "source": [
    "# The minimum value achieved for the objective function\n",
    "skm.out$value"
   ]
  },
  {
   "cell_type": "markdown",
   "metadata": {},
   "source": [
    "We can also output another common measure of evaluating the performance of the clustering - \"dissimilarity accounted for,\" which equals average dissimilarity over total dissimilarity. "
   ]
  },
  {
   "cell_type": "code",
   "execution_count": 35,
   "metadata": {
    "collapsed": false
   },
   "outputs": [
    {
     "name": "stderr",
     "output_type": "stream",
     "text": [
      "Loading required package: clue\n"
     ]
    },
    {
     "data": {
      "text/plain": [
       "Dissimilarity accounted for: 0.1734369"
      ]
     },
     "metadata": {},
     "output_type": "display_data"
    }
   ],
   "source": [
    "require(clue)\n",
    "cl_validity(skm.out)"
   ]
  },
  {
   "cell_type": "markdown",
   "metadata": {},
   "source": [
    "Let's examine one of the clusters to see if we pick up the same or stronger patterns as in the clusters identified by regular k-means. "
   ]
  },
  {
   "cell_type": "code",
   "execution_count": 36,
   "metadata": {
    "collapsed": false
   },
   "outputs": [
    {
     "data": {
      "text/html": [
       "<table>\n",
       "<thead><tr><th></th><th scope=col>cluster1</th><th scope=col>cluster2</th><th scope=col>cluster3</th></tr></thead>\n",
       "<tbody>\n",
       "\t<tr><th scope=row>offer22</th><td>0.4771356 </td><td>0.0000000 </td><td>0.01874416</td></tr>\n",
       "\t<tr><th scope=row>offer31</th><td>0.4355708 </td><td>0.0000000 </td><td>0.00000000</td></tr>\n",
       "\t<tr><th scope=row>offer4</th><td>0.2862600 </td><td>0.0000000 </td><td>0.00000000</td></tr>\n",
       "\t<tr><th scope=row>offer11</th><td>0.2814637 </td><td>0.0000000 </td><td>0.03246583</td></tr>\n",
       "\t<tr><th scope=row>offer9</th><td>0.2738547 </td><td>0.0000000 </td><td>0.00000000</td></tr>\n",
       "\t<tr><th scope=row>offer6</th><td>0.2435176 </td><td>0.0000000 </td><td>0.02295681</td></tr>\n",
       "\t<tr><th scope=row>offer14</th><td>0.2224911 </td><td>0.0000000 </td><td>0.00000000</td></tr>\n",
       "\t<tr><th scope=row>offer27</th><td>0.1796617 </td><td>0.0329495 </td><td>0.03246583</td></tr>\n",
       "\t<tr><th scope=row>offer1</th><td>0.1673020 </td><td>0.0900197 </td><td>0.00000000</td></tr>\n",
       "\t<tr><th scope=row>offer25</th><td>0.1444314 </td><td>0.0000000 </td><td>0.00000000</td></tr>\n",
       "</tbody>\n",
       "</table>\n"
      ],
      "text/latex": [
       "\\begin{tabular}{r|lll}\n",
       "  & cluster1 & cluster2 & cluster3\\\\\n",
       "\\hline\n",
       "\toffer22 & 0.4771356  & 0.0000000  & 0.01874416\\\\\n",
       "\toffer31 & 0.4355708  & 0.0000000  & 0.00000000\\\\\n",
       "\toffer4 & 0.2862600  & 0.0000000  & 0.00000000\\\\\n",
       "\toffer11 & 0.2814637  & 0.0000000  & 0.03246583\\\\\n",
       "\toffer9 & 0.2738547  & 0.0000000  & 0.00000000\\\\\n",
       "\toffer6 & 0.2435176  & 0.0000000  & 0.02295681\\\\\n",
       "\toffer14 & 0.2224911  & 0.0000000  & 0.00000000\\\\\n",
       "\toffer27 & 0.1796617  & 0.0329495  & 0.03246583\\\\\n",
       "\toffer1 & 0.1673020  & 0.0900197  & 0.00000000\\\\\n",
       "\toffer25 & 0.1444314  & 0.0000000  & 0.00000000\\\\\n",
       "\\end{tabular}\n"
      ],
      "text/markdown": [
       "\n",
       "| <!--/--> | cluster1 | cluster2 | cluster3 | \n",
       "|---|---|---|---|---|---|---|---|---|---|\n",
       "| offer22 | 0.4771356  | 0.0000000  | 0.01874416 | \n",
       "| offer31 | 0.4355708  | 0.0000000  | 0.00000000 | \n",
       "| offer4 | 0.2862600  | 0.0000000  | 0.00000000 | \n",
       "| offer11 | 0.2814637  | 0.0000000  | 0.03246583 | \n",
       "| offer9 | 0.2738547  | 0.0000000  | 0.00000000 | \n",
       "| offer6 | 0.2435176  | 0.0000000  | 0.02295681 | \n",
       "| offer14 | 0.2224911  | 0.0000000  | 0.00000000 | \n",
       "| offer27 | 0.1796617  | 0.0329495  | 0.03246583 | \n",
       "| offer1 | 0.1673020  | 0.0900197  | 0.00000000 | \n",
       "| offer25 | 0.1444314  | 0.0000000  | 0.00000000 | \n",
       "\n",
       "\n"
      ],
      "text/plain": [
       "        cluster1  cluster2  cluster3  \n",
       "offer22 0.4771356 0.0000000 0.01874416\n",
       "offer31 0.4355708 0.0000000 0.00000000\n",
       "offer4  0.2862600 0.0000000 0.00000000\n",
       "offer11 0.2814637 0.0000000 0.03246583\n",
       "offer9  0.2738547 0.0000000 0.00000000\n",
       "offer6  0.2435176 0.0000000 0.02295681\n",
       "offer14 0.2224911 0.0000000 0.00000000\n",
       "offer27 0.1796617 0.0329495 0.03246583\n",
       "offer1  0.1673020 0.0900197 0.00000000\n",
       "offer25 0.1444314 0.0000000 0.00000000"
      ]
     },
     "metadata": {},
     "output_type": "display_data"
    }
   ],
   "source": [
    "df.prototypes <- data.frame(t(skm.out$prototype))\n",
    "colnames(df.prototypes) <- paste0(\"cluster\", c(1:3))\n",
    "head(df.prototypes[order(-df.prototypes[1]), ], 10)"
   ]
  },
  {
   "cell_type": "markdown",
   "metadata": {},
   "source": [
    "In cluster 1 we see that the dominant offers are 8, 30, 29, 7, 18, and 13. These are the same dominant offers that we saw in cluster 4 of the k-means output - the low-volume, high-discount buyers. \n",
    "\n",
    "Did the spherical k-means algorithm achieve better separation of the clusters? We will look at the silhouettes again to examine this. "
   ]
  },
  {
   "cell_type": "code",
   "execution_count": 37,
   "metadata": {
    "collapsed": false
   },
   "outputs": [
    {
     "data": {
      "image/png": "[encoded data removed]",
      "text/plain": [
       "Plot with title \"Silhouette plot of K-means output with k=3\""
      ]
     },
     "metadata": {},
     "output_type": "display_data"
    }
   ],
   "source": [
    "# Plot the k-means silhouette with k=3\n",
    "plot(sil_3k, main = \"Silhouette plot of K-means output with k=3\")"
   ]
  },
  {
   "cell_type": "code",
   "execution_count": 38,
   "metadata": {
    "collapsed": false
   },
   "outputs": [
    {
     "data": {
      "image/png": "[encoded data removed]",
      "text/plain": [
       "Plot with title \"Silhouette plot of Spherical K-means output with k=3\""
      ]
     },
     "metadata": {},
     "output_type": "display_data"
    }
   ],
   "source": [
    "# Plot the spherical k-means silhouette with k=3\n",
    "plot(silhouette(skm.out), main=\"Silhouette plot of Spherical K-means output with k=3\")"
   ]
  },
  {
   "cell_type": "markdown",
   "metadata": {},
   "source": [
    "We see a marked improvement of the individual cluster silhouettes in the spherical k-means output. All clusters have a positive average silhouette measure and the average silhouette is 0.25 with spherical k-means vs. 0.12 with k-means. A silhouette of 0.25 is still not stellar because ideally we are looking for a clustering outcome that produces a silhouette value close to 1. \n",
    "\n",
    "Finally, we will look at the silhouette measure if using soft partitioning by calling the \"fixed point\" method of the *skmeans* function and specifying the softness parameter *m*."
   ]
  },
  {
   "cell_type": "code",
   "execution_count": 39,
   "metadata": {
    "collapsed": false
   },
   "outputs": [
    {
     "data": {
      "text/plain": [
       "A soft spherical k-means partition (degree m = 1.500000) of 100 objects\n",
       "into 3 classes.\n",
       "Class sizes of closest hard partition: 47, 36, 17.\n",
       "Call: skmeans(x = wine.m, k = 3, method = \"pclust\", m = 1.5, control = list(nruns = 15))"
      ]
     },
     "metadata": {},
     "output_type": "display_data"
    }
   ],
   "source": [
    "skm_fp.out <- skmeans(wine.m, 3, m=1.5, method=\"pclust\", control=list(nruns=15))\n",
    "skm_fp.out"
   ]
  },
  {
   "cell_type": "code",
   "execution_count": 40,
   "metadata": {
    "collapsed": false
   },
   "outputs": [
    {
     "data": {
      "text/plain": [
       "Dissimilarity accounted for: 0.07820545"
      ]
     },
     "metadata": {},
     "output_type": "display_data"
    }
   ],
   "source": [
    "cl_validity(skm_fp.out)"
   ]
  },
  {
   "cell_type": "markdown",
   "metadata": {},
   "source": [
    "The dissimilarity accounted for is actually much lower than with the hard partitioning. "
   ]
  },
  {
   "cell_type": "code",
   "execution_count": 41,
   "metadata": {
    "collapsed": false
   },
   "outputs": [
    {
     "data": {
      "image/png": "[encoded data removed]",
      "text/plain": [
       "Plot with title \"Silhouette plot of soft spherical k-means with k=3\""
      ]
     },
     "metadata": {},
     "output_type": "display_data"
    }
   ],
   "source": [
    "plot(silhouette(skm_fp.out), main=\"Silhouette plot of soft spherical k-means with k=3\")"
   ]
  },
  {
   "cell_type": "markdown",
   "metadata": {},
   "source": [
    "Applying soft partitioning did not improve the silhouette of the clusters, suggesting no improvement over the hard partitions."
   ]
  }
 ],
 "metadata": {
  "kernelspec": {
   "display_name": "R",
   "language": "R",
   "name": "ir"
  },
  "language_info": {
   "codemirror_mode": "r",
   "file_extension": ".r",
   "mimetype": "text/x-r-source",
   "name": "R",
   "pygments_lexer": "r",
   "version": "3.3.2"
  }
 },
 "nbformat": 4,
 "nbformat_minor": 0
}
